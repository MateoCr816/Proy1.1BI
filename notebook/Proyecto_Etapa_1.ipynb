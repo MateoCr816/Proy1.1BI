{
  "cells": [
    {
      "cell_type": "markdown",
      "metadata": {
        "id": "sJ573VO6OvIi"
      },
      "source": [
        "##**Proyecto Etapa 1 - Construcción de modelos de analítica de textos**\n",
        "\n",
        "**Caso  Fondo de Poblaciones de las Naciones Unidas (UNFPA)**\n",
        "\n",
        "**Integrantes**\n",
        "\n",
        "Mateo Calderon\n",
        "\n",
        "Juan Ramirez\n",
        "\n",
        "Daniela Castrillón\n"
      ]
    },
    {
      "cell_type": "markdown",
      "metadata": {
        "id": "ZtH1NHasOms3"
      },
      "source": [
        "#**Entendimiento y preparación de los datos**\n",
        "\n",
        "A continuación, se describen las características más relevantes de los datos con el fin de realizar un perfilamiento de los mismos; adicional, se realiza el análisis de calidad de datos.\n",
        "\n",
        "Por otro lado, se incluye el tratamiento de los datos (preparación o transformaciones requeridas), de acuerdo con el dominio, las técnicas y los algoritmos seleccionados para resolver el problema planteado.\n"
      ]
    },
    {
      "cell_type": "markdown",
      "metadata": {
        "id": "CC1C_DBV6zea"
      },
      "source": [
        "##Carga de datos\n",
        "\n",
        "En esta sección, se cargan los datos necesarios para el análisis y se importan las librerías necesarias para leer el archivo que contiene los datos de entrenamiento y prueba.\n",
        "\n",
        "Es esencial comenzar con este paso para asegurarnos de que todos los datos necesarios están correctamente importados para las etapas siguientes del análisis."
      ]
    },
    {
      "cell_type": "code",
      "execution_count": null,
      "metadata": {
        "id": "X5gOW-sv8kyO",
        "colab": {
          "base_uri": "https://localhost:8080/"
        },
        "outputId": "a594ecc7-5010-4323-e4d3-32ff36cbd540"
      },
      "outputs": [
        {
          "output_type": "stream",
          "name": "stdout",
          "text": [
            "Requirement already satisfied: unidecode in /usr/local/lib/python3.10/dist-packages (1.3.8)\n",
            "Requirement already satisfied: shap in /usr/local/lib/python3.10/dist-packages (0.46.0)\n",
            "Requirement already satisfied: numpy in /usr/local/lib/python3.10/dist-packages (from shap) (1.26.4)\n",
            "Requirement already satisfied: scipy in /usr/local/lib/python3.10/dist-packages (from shap) (1.13.1)\n",
            "Requirement already satisfied: scikit-learn in /usr/local/lib/python3.10/dist-packages (from shap) (1.3.2)\n",
            "Requirement already satisfied: pandas in /usr/local/lib/python3.10/dist-packages (from shap) (2.1.4)\n",
            "Requirement already satisfied: tqdm>=4.27.0 in /usr/local/lib/python3.10/dist-packages (from shap) (4.66.5)\n",
            "Requirement already satisfied: packaging>20.9 in /usr/local/lib/python3.10/dist-packages (from shap) (24.1)\n",
            "Requirement already satisfied: slicer==0.0.8 in /usr/local/lib/python3.10/dist-packages (from shap) (0.0.8)\n",
            "Requirement already satisfied: numba in /usr/local/lib/python3.10/dist-packages (from shap) (0.60.0)\n",
            "Requirement already satisfied: cloudpickle in /usr/local/lib/python3.10/dist-packages (from shap) (2.2.1)\n",
            "Requirement already satisfied: llvmlite<0.44,>=0.43.0dev0 in /usr/local/lib/python3.10/dist-packages (from numba->shap) (0.43.0)\n",
            "Requirement already satisfied: python-dateutil>=2.8.2 in /usr/local/lib/python3.10/dist-packages (from pandas->shap) (2.8.2)\n",
            "Requirement already satisfied: pytz>=2020.1 in /usr/local/lib/python3.10/dist-packages (from pandas->shap) (2024.1)\n",
            "Requirement already satisfied: tzdata>=2022.1 in /usr/local/lib/python3.10/dist-packages (from pandas->shap) (2024.1)\n",
            "Requirement already satisfied: joblib>=1.1.1 in /usr/local/lib/python3.10/dist-packages (from scikit-learn->shap) (1.4.2)\n",
            "Requirement already satisfied: threadpoolctl>=2.0.0 in /usr/local/lib/python3.10/dist-packages (from scikit-learn->shap) (3.5.0)\n",
            "Requirement already satisfied: six>=1.5 in /usr/local/lib/python3.10/dist-packages (from python-dateutil>=2.8.2->pandas->shap) (1.16.0)\n"
          ]
        }
      ],
      "source": [
        "!pip install unidecode\n",
        "!pip install shap"
      ]
    },
    {
      "cell_type": "code",
      "execution_count": null,
      "metadata": {
        "id": "TpXYlgBM33VX"
      },
      "outputs": [],
      "source": [
        "import pandas as pd\n",
        "from unidecode import unidecode\n",
        "import numpy as np\n",
        "import seaborn as sns\n",
        "import matplotlib.pyplot as plt\n",
        "from sklearn.preprocessing import Normalizer\n",
        "from sklearn.metrics import mean_absolute_error\n",
        "from sklearn.metrics import mean_squared_error\n",
        "from sklearn.compose import ColumnTransformer\n",
        "from sklearn.model_selection import train_test_split\n",
        "from sklearn.pipeline import Pipeline\n",
        "from sklearn.linear_model import LinearRegression\n",
        "from IPython.display import display\n",
        "from sklearn.svm import SVC\n",
        "import shap\n",
        "\n",
        "import nltk\n",
        "from nltk.corpus import stopwords\n",
        "from nltk.stem import SnowballStemmer\n",
        "from nltk.tokenize import word_tokenize\n",
        "from sklearn.feature_extraction.text import TfidfVectorizer\n",
        "from sklearn.tree import DecisionTreeClassifier\n",
        "from sklearn.metrics import accuracy_score, confusion_matrix, classification_report\n",
        "from sklearn.inspection import permutation_importance\n",
        "\n",
        "from sklearn.naive_bayes import MultinomialNB\n",
        "from sklearn.metrics import roc_auc_score, roc_curve, confusion_matrix, precision_score, recall_score, accuracy_score, balanced_accuracy_score, ConfusionMatrixDisplay\n"
      ]
    },
    {
      "cell_type": "code",
      "execution_count": null,
      "metadata": {
        "id": "KFhBu9_-9vqT",
        "colab": {
          "base_uri": "https://localhost:8080/"
        },
        "outputId": "b98f5e50-a93a-4170-b363-254d919b5dc9"
      },
      "outputs": [
        {
          "output_type": "stream",
          "name": "stderr",
          "text": [
            "[nltk_data] Downloading package punkt to /root/nltk_data...\n",
            "[nltk_data]   Package punkt is already up-to-date!\n",
            "[nltk_data] Downloading package stopwords to /root/nltk_data...\n",
            "[nltk_data]   Package stopwords is already up-to-date!\n"
          ]
        },
        {
          "output_type": "execute_result",
          "data": {
            "text/plain": [
              "True"
            ]
          },
          "metadata": {},
          "execution_count": 13
        }
      ],
      "source": [
        "#Descargar recursos necesarios de NLTK\n",
        "nltk.download('punkt')\n",
        "nltk.download('stopwords')"
      ]
    },
    {
      "cell_type": "code",
      "execution_count": null,
      "metadata": {
        "id": "LPR4XPXrBCsK",
        "colab": {
          "base_uri": "https://localhost:8080/",
          "height": 1000
        },
        "outputId": "dcc007b0-57a3-481a-bda9-f57d7329823e"
      },
      "outputs": [
        {
          "output_type": "display_data",
          "data": {
            "text/plain": [
              "                                                                                                                                                                                                                                                                                                                                                                                                                                                                                                                                                                                                                                                                                                                                                                                                                                                                                                                                                                                                                                                                                                                                                                                                                                               Textos_espanol  \\\n",
              "0                                                                                                                                                                                                                                                                            Por ejemplo, el nÃºmero de consultas externas de especialistas es de 319 por cada mil derechohabientes en el SP, en comparaciÃ³n con 338 y 620 por cada mil derechohabientes en el IMSS y el ISSSTE, respectivamente. Si bien algunas de estas diferencias pueden reflejar una necesidad desigual (como la poblaciÃ³n ligeramente mayor del ISSSTE), otras no pueden justificarse de esta manera. El nÃºmero de recetas que no pudieron ser surtidas en su totalidad por un farmacÃ©utico debido a la falta de existencias es de 33% dentro del SP en comparaciÃ³n con 14% dentro del IMSS segÃºn los datos de la encuesta (aunque las propias cifras de los institutos de la SS sugieren tasas mÃ¡s altas de recetas surtidas). Ambas cifras se encuentran entre las mÃ¡s altas de la OCDE. El gasto de bolsillo no se ha reducido significativamente en la última década, a pesar de los esfuerzos para lograr la cobertura sanitaria universal a través de la reforma del SP.   \n",
              "1                                                                                                                                                                                                                                                                                                                                                                                                                                                                                                                                                                                                                                                                                                                                                                En 2007, el gobierno central financió directamente solo el 0,3% del gasto total en salud, pero realizó transferencias específicas para el gasto en salud que ascendieron a otro 5,6% del gasto total. La mayor parte del gasto presupuestario en salud lo realizan los gobiernos de los condados. Por lo tanto, los condados pobres solo pueden ofrecer un bajo nivel de atención a la población local. El gobierno provincial proporciona subsidios del lado de la oferta a los hospitales.   \n",
              "2     Claramente, hay muchos otros factores en juego, en particular, una variedad de barreras y determinantes sociales. Estos pueden estar relacionados con el género, la clase, la etnia, la casta, el idioma y la religión, y surgen de estructuras, normas y procesos sociales arraigados que aceptan e incluso fomentan distribuciones injustas de la riqueza y los recursos sociales. Por ejemplo, las personas que viven con el VIH y algunas otras enfermedades crónicas enfrentan altos niveles de estigma y discriminación que dificultan su acceso a pruebas médicas, tratamiento, atención y apoyo. Por lo tanto, los gobiernos que buscan mejorar los estándares de salud querrán mejorar la condición de la mujer, brindar servicios de salud reproductiva efectivos, implementar programas integrales de lactancia materna en línea con las recomendaciones actuales y aumentar las presiones comunitarias contra el aborto selectivo por sexo. Las personas pobres, que carecen de educación e información, o de fondos para opciones más saludables, son más vulnerables al impacto de las ENT que los ricos y es probable que mueran antes. Directa e indirectamente, las ENT tendrán impactos de gran alcance en el progreso hacia los ODM.   \n",
              "3                                                                                                                          Por ejemplo, el estado australiano de Victoria creó una agencia de promoción de la salud financiada con los impuestos sobre el tabaco, y varios estados de EE.UU. (California, Massachusetts, Arizona y Oregón) han destinado parte de los ingresos procedentes de los impuestos especiales sobre el tabaco a actividades de educación y control del tabaco, mientras que en Nueva Jersey, Ohio y Texas los ingresos procedentes del alcohol se utilizan para programas de educación y prevención relacionados con el alcohol (Sassi et al., 2004), Los impuestos locales pueden ser una fuente importante de ingresos, sobre todo en los sistemas sanitarios descentralizados (por ejemplo, Dinamarca, Finlandia, Italia y Suecia)17 . Además, el nivel de los impuestos locales puede fijarse en función de las preferencias locales sobre el nivel y la calidad de los servicios médicos. Sin embargo, en ausencia de un mecanismo de transferencia ajustado al riesgo y gestionado centralmente, la descentralización reduce la mancomunación de riesgos y podría dar lugar a mayores disparidades sanitarias interregionales.   \n",
              "4                                                                                                                                                                                                                                                                                                                             El consumo anual de alcohol se estima en 15,7 litros al año para los hombres, más de un 50% por encima de la media de la OCDE (10,4) (Sistema mundial de información sobre alcohol y salud de la OMS), lo que puede ayudar a explicar la alta mortalidad por enfermedad hepática relacionada con el alcohol. Si bien la prevalencia de la obesidad en adultos es relativamente baja en comparación con muchos países de la OCDE, más del 30 % de las mujeres en Kazajstán son obesas, en comparación con el 16 % de los hombres (World Obesity, 2016), lo que coloca la tasa entre las mujeres a la par con algunos de los países más obesos de la OCDE. De hecho, una gran proporción de la brecha en la esperanza de vida se explica por una mayor mortalidad entre los jóvenes kazajos de 15 a 29 años, un grupo de edad en el que las tasas generales de mortalidad son más de tres veces más altas que en la UE de los 15.   \n",
              "...                                                                                                                                                                                                                                                                                                                                                                                                                                                                                                                                                                                                                                                                                                                                                                                                                                                                                                                                                                                                                                                                                                                                                                                                                                                       ...   \n",
              "4044                                                                                                                                                                                                                                                                                                                                                                                                   Para ello, identificará las cuestiones de género más destacadas en Malta, así como arrojará luz sobre las vulnerabilidades generadas por las complejas interacciones del género con la edad, la discapacidad y el estatus migratorio. Además, enfatizará la importancia de incluir mujeres y activistas por los derechos de las mujeres en las iniciativas y toma de decisiones de RRD, identificando brechas y oportunidades dentro de las estructuras políticas y sociales existentes y presentando sugerencias para la incorporación de la perspectiva de género en la RRD en Malta. Este análisis espera inspirar el trabajo de investigación y prevención de RRD que esté en sintonía con las cuestiones de género y, al mismo tiempo, adopte una perspectiva interseccional, reconociendo que no puede haber resiliencia sin igualdad de género.   \n",
              "4045                                                                                                                                                                                                                                                                                                                                                                                                                                                                                                                                                                                                                                                                                                                       La participación de las mujeres en roles de liderazgo dentro de la legislatura también es desigual, especialmente cuando se trata de presidir comités. Vale la pena evaluar cómo se podrían mejorar las normas y procedimientos actuales de los órganos representativos, tanto a nivel nacional como subnacional, para fomentar un entorno de trabajo sensible al género que conduzca a las necesidades tanto de hombres como de mujeres. Las mujeres ocupan sólo dos de los 18 puestos ministeriales en el Gabinete Presidencial.   \n",
              "4046                                                                                                                                                                                                                                                                                                                                                                                                                                                                                                                                                                                                                                                                                                                                                                                            Según el WEF, según las tendencias de 2016, podría cerrarse dentro de 82 años. En efecto, aunque las mujeres siguen estando insuficientemente representadas en la toma de decisiones políticas, las estadísticas generalmente apuntan a un progreso incremental y una oportunidad para aprovechar los logros alcanzados. Brinda datos clave: dónde hay mujeres (o faltan) en el parlamento, el gobierno local, el gabinete y la alta dirección de sus países.   \n",
              "4047                                                                                                                                                                                                Sirve como recurso y foro para las agencias, con el objetivo de lograr un enfoque integral del gobierno federal para la política sobre mujeres y niñas. Los miembros del consejo son los jefes de todas las agencias federales y de las principales oficinas de la Casa Blanca, lo que refuerza la declaración de la exsecretaria de Estado Madeleine Albright de que en “nuestro gobierno, la responsabilidad por el avance de las mujeres no es tarea de una sola agencia, es”. es el trabajo de todos ellos\". DespuÃ©s de analizar el enfoque de cada agencia federal en las mujeres, el consejo trabaja para asegurar que cada agencia estÃ© mejorando directamente la situaciÃ³n econÃ³mica de las mujeres, asÃ como desarrollando y evaluando polÃticas que establezcan un equilibrio entre el trabajo y la familia. El consejo también se ha centrado en encontrar nuevas formas de prevenir la violencia contra la mujer a través de la cooperación con el Vicepresidente y la Oficina de Violencia contra la Mujer del Departamento de Justicia.   \n",
              "4048                                                                                                                                                                                                                                                                                                                                                                                                                                                                                                 Las áreas útiles para un mayor estudio y acción política incluyen: la disponibilidad rutinaria de datos desglosados ​​por género, la incorporación de enfoques específicos de género dentro de las rutinas anuales normales de presupuestación y la complementación de enfoques dirigidos por ejecutivos con garantía de calidad externa. El uso de dichos datos por parte de la OCDE es sin perjuicio del estado de los Altos del Golán, Jerusalén Este y los asentamientos israelíes en Cisjordania según los términos del derecho internacional. Hoy en día muchas disparidades y desigualdades entre los sexos parecen haberse incrustado, en mayor o menor medida, en la línea base de las políticas públicas y la asignación de recursos públicos.   \n",
              "\n",
              "      sdg  \n",
              "0       3  \n",
              "1       3  \n",
              "2       3  \n",
              "3       3  \n",
              "4       3  \n",
              "...   ...  \n",
              "4044    5  \n",
              "4045    5  \n",
              "4046    5  \n",
              "4047    5  \n",
              "4048    5  \n",
              "\n",
              "[4049 rows x 2 columns]"
            ],
            "text/html": [
              "\n",
              "  <div id=\"df-a0617ae4-3b46-4d64-95f3-829a8c189fe9\" class=\"colab-df-container\">\n",
              "    <div>\n",
              "<style scoped>\n",
              "    .dataframe tbody tr th:only-of-type {\n",
              "        vertical-align: middle;\n",
              "    }\n",
              "\n",
              "    .dataframe tbody tr th {\n",
              "        vertical-align: top;\n",
              "    }\n",
              "\n",
              "    .dataframe thead th {\n",
              "        text-align: right;\n",
              "    }\n",
              "</style>\n",
              "<table border=\"1\" class=\"dataframe\">\n",
              "  <thead>\n",
              "    <tr style=\"text-align: right;\">\n",
              "      <th></th>\n",
              "      <th>Textos_espanol</th>\n",
              "      <th>sdg</th>\n",
              "    </tr>\n",
              "  </thead>\n",
              "  <tbody>\n",
              "    <tr>\n",
              "      <th>0</th>\n",
              "      <td>Por ejemplo, el nÃºmero de consultas externas de especialistas es de 319 por cada mil derechohabientes en el SP, en comparaciÃ³n con 338 y 620 por cada mil derechohabientes en el IMSS y el ISSSTE, respectivamente. Si bien algunas de estas diferencias pueden reflejar una necesidad desigual (como la poblaciÃ³n ligeramente mayor del ISSSTE), otras no pueden justificarse de esta manera. El nÃºmero de recetas que no pudieron ser surtidas en su totalidad por un farmacÃ©utico debido a la falta de existencias es de 33% dentro del SP en comparaciÃ³n con 14% dentro del IMSS segÃºn los datos de la encuesta (aunque las propias cifras de los institutos de la SS sugieren tasas mÃ¡s altas de recetas surtidas). Ambas cifras se encuentran entre las mÃ¡s altas de la OCDE. El gasto de bolsillo no se ha reducido significativamente en la última década, a pesar de los esfuerzos para lograr la cobertura sanitaria universal a través de la reforma del SP.</td>\n",
              "      <td>3</td>\n",
              "    </tr>\n",
              "    <tr>\n",
              "      <th>1</th>\n",
              "      <td>En 2007, el gobierno central financió directamente solo el 0,3% del gasto total en salud, pero realizó transferencias específicas para el gasto en salud que ascendieron a otro 5,6% del gasto total. La mayor parte del gasto presupuestario en salud lo realizan los gobiernos de los condados. Por lo tanto, los condados pobres solo pueden ofrecer un bajo nivel de atención a la población local. El gobierno provincial proporciona subsidios del lado de la oferta a los hospitales.</td>\n",
              "      <td>3</td>\n",
              "    </tr>\n",
              "    <tr>\n",
              "      <th>2</th>\n",
              "      <td>Claramente, hay muchos otros factores en juego, en particular, una variedad de barreras y determinantes sociales. Estos pueden estar relacionados con el género, la clase, la etnia, la casta, el idioma y la religión, y surgen de estructuras, normas y procesos sociales arraigados que aceptan e incluso fomentan distribuciones injustas de la riqueza y los recursos sociales. Por ejemplo, las personas que viven con el VIH y algunas otras enfermedades crónicas enfrentan altos niveles de estigma y discriminación que dificultan su acceso a pruebas médicas, tratamiento, atención y apoyo. Por lo tanto, los gobiernos que buscan mejorar los estándares de salud querrán mejorar la condición de la mujer, brindar servicios de salud reproductiva efectivos, implementar programas integrales de lactancia materna en línea con las recomendaciones actuales y aumentar las presiones comunitarias contra el aborto selectivo por sexo. Las personas pobres, que carecen de educación e información, o de fondos para opciones más saludables, son más vulnerables al impacto de las ENT que los ricos y es probable que mueran antes. Directa e indirectamente, las ENT tendrán impactos de gran alcance en el progreso hacia los ODM.</td>\n",
              "      <td>3</td>\n",
              "    </tr>\n",
              "    <tr>\n",
              "      <th>3</th>\n",
              "      <td>Por ejemplo, el estado australiano de Victoria creó una agencia de promoción de la salud financiada con los impuestos sobre el tabaco, y varios estados de EE.UU. (California, Massachusetts, Arizona y Oregón) han destinado parte de los ingresos procedentes de los impuestos especiales sobre el tabaco a actividades de educación y control del tabaco, mientras que en Nueva Jersey, Ohio y Texas los ingresos procedentes del alcohol se utilizan para programas de educación y prevención relacionados con el alcohol (Sassi et al., 2004), Los impuestos locales pueden ser una fuente importante de ingresos, sobre todo en los sistemas sanitarios descentralizados (por ejemplo, Dinamarca, Finlandia, Italia y Suecia)17 . Además, el nivel de los impuestos locales puede fijarse en función de las preferencias locales sobre el nivel y la calidad de los servicios médicos. Sin embargo, en ausencia de un mecanismo de transferencia ajustado al riesgo y gestionado centralmente, la descentralización reduce la mancomunación de riesgos y podría dar lugar a mayores disparidades sanitarias interregionales.</td>\n",
              "      <td>3</td>\n",
              "    </tr>\n",
              "    <tr>\n",
              "      <th>4</th>\n",
              "      <td>El consumo anual de alcohol se estima en 15,7 litros al año para los hombres, más de un 50% por encima de la media de la OCDE (10,4) (Sistema mundial de información sobre alcohol y salud de la OMS), lo que puede ayudar a explicar la alta mortalidad por enfermedad hepática relacionada con el alcohol. Si bien la prevalencia de la obesidad en adultos es relativamente baja en comparación con muchos países de la OCDE, más del 30 % de las mujeres en Kazajstán son obesas, en comparación con el 16 % de los hombres (World Obesity, 2016), lo que coloca la tasa entre las mujeres a la par con algunos de los países más obesos de la OCDE. De hecho, una gran proporción de la brecha en la esperanza de vida se explica por una mayor mortalidad entre los jóvenes kazajos de 15 a 29 años, un grupo de edad en el que las tasas generales de mortalidad son más de tres veces más altas que en la UE de los 15.</td>\n",
              "      <td>3</td>\n",
              "    </tr>\n",
              "    <tr>\n",
              "      <th>...</th>\n",
              "      <td>...</td>\n",
              "      <td>...</td>\n",
              "    </tr>\n",
              "    <tr>\n",
              "      <th>4044</th>\n",
              "      <td>Para ello, identificará las cuestiones de género más destacadas en Malta, así como arrojará luz sobre las vulnerabilidades generadas por las complejas interacciones del género con la edad, la discapacidad y el estatus migratorio. Además, enfatizará la importancia de incluir mujeres y activistas por los derechos de las mujeres en las iniciativas y toma de decisiones de RRD, identificando brechas y oportunidades dentro de las estructuras políticas y sociales existentes y presentando sugerencias para la incorporación de la perspectiva de género en la RRD en Malta. Este análisis espera inspirar el trabajo de investigación y prevención de RRD que esté en sintonía con las cuestiones de género y, al mismo tiempo, adopte una perspectiva interseccional, reconociendo que no puede haber resiliencia sin igualdad de género.</td>\n",
              "      <td>5</td>\n",
              "    </tr>\n",
              "    <tr>\n",
              "      <th>4045</th>\n",
              "      <td>La participación de las mujeres en roles de liderazgo dentro de la legislatura también es desigual, especialmente cuando se trata de presidir comités. Vale la pena evaluar cómo se podrían mejorar las normas y procedimientos actuales de los órganos representativos, tanto a nivel nacional como subnacional, para fomentar un entorno de trabajo sensible al género que conduzca a las necesidades tanto de hombres como de mujeres. Las mujeres ocupan sólo dos de los 18 puestos ministeriales en el Gabinete Presidencial.</td>\n",
              "      <td>5</td>\n",
              "    </tr>\n",
              "    <tr>\n",
              "      <th>4046</th>\n",
              "      <td>Según el WEF, según las tendencias de 2016, podría cerrarse dentro de 82 años. En efecto, aunque las mujeres siguen estando insuficientemente representadas en la toma de decisiones políticas, las estadísticas generalmente apuntan a un progreso incremental y una oportunidad para aprovechar los logros alcanzados. Brinda datos clave: dónde hay mujeres (o faltan) en el parlamento, el gobierno local, el gabinete y la alta dirección de sus países.</td>\n",
              "      <td>5</td>\n",
              "    </tr>\n",
              "    <tr>\n",
              "      <th>4047</th>\n",
              "      <td>Sirve como recurso y foro para las agencias, con el objetivo de lograr un enfoque integral del gobierno federal para la política sobre mujeres y niñas. Los miembros del consejo son los jefes de todas las agencias federales y de las principales oficinas de la Casa Blanca, lo que refuerza la declaración de la exsecretaria de Estado Madeleine Albright de que en “nuestro gobierno, la responsabilidad por el avance de las mujeres no es tarea de una sola agencia, es”. es el trabajo de todos ellos\". DespuÃ©s de analizar el enfoque de cada agencia federal en las mujeres, el consejo trabaja para asegurar que cada agencia estÃ© mejorando directamente la situaciÃ³n econÃ³mica de las mujeres, asÃ como desarrollando y evaluando polÃticas que establezcan un equilibrio entre el trabajo y la familia. El consejo también se ha centrado en encontrar nuevas formas de prevenir la violencia contra la mujer a través de la cooperación con el Vicepresidente y la Oficina de Violencia contra la Mujer del Departamento de Justicia.</td>\n",
              "      <td>5</td>\n",
              "    </tr>\n",
              "    <tr>\n",
              "      <th>4048</th>\n",
              "      <td>Las áreas útiles para un mayor estudio y acción política incluyen: la disponibilidad rutinaria de datos desglosados ​​por género, la incorporación de enfoques específicos de género dentro de las rutinas anuales normales de presupuestación y la complementación de enfoques dirigidos por ejecutivos con garantía de calidad externa. El uso de dichos datos por parte de la OCDE es sin perjuicio del estado de los Altos del Golán, Jerusalén Este y los asentamientos israelíes en Cisjordania según los términos del derecho internacional. Hoy en día muchas disparidades y desigualdades entre los sexos parecen haberse incrustado, en mayor o menor medida, en la línea base de las políticas públicas y la asignación de recursos públicos.</td>\n",
              "      <td>5</td>\n",
              "    </tr>\n",
              "  </tbody>\n",
              "</table>\n",
              "<p>4049 rows × 2 columns</p>\n",
              "</div>\n",
              "    <div class=\"colab-df-buttons\">\n",
              "\n",
              "  <div class=\"colab-df-container\">\n",
              "    <button class=\"colab-df-convert\" onclick=\"convertToInteractive('df-a0617ae4-3b46-4d64-95f3-829a8c189fe9')\"\n",
              "            title=\"Convert this dataframe to an interactive table.\"\n",
              "            style=\"display:none;\">\n",
              "\n",
              "  <svg xmlns=\"http://www.w3.org/2000/svg\" height=\"24px\" viewBox=\"0 -960 960 960\">\n",
              "    <path d=\"M120-120v-720h720v720H120Zm60-500h600v-160H180v160Zm220 220h160v-160H400v160Zm0 220h160v-160H400v160ZM180-400h160v-160H180v160Zm440 0h160v-160H620v160ZM180-180h160v-160H180v160Zm440 0h160v-160H620v160Z\"/>\n",
              "  </svg>\n",
              "    </button>\n",
              "\n",
              "  <style>\n",
              "    .colab-df-container {\n",
              "      display:flex;\n",
              "      gap: 12px;\n",
              "    }\n",
              "\n",
              "    .colab-df-convert {\n",
              "      background-color: #E8F0FE;\n",
              "      border: none;\n",
              "      border-radius: 50%;\n",
              "      cursor: pointer;\n",
              "      display: none;\n",
              "      fill: #1967D2;\n",
              "      height: 32px;\n",
              "      padding: 0 0 0 0;\n",
              "      width: 32px;\n",
              "    }\n",
              "\n",
              "    .colab-df-convert:hover {\n",
              "      background-color: #E2EBFA;\n",
              "      box-shadow: 0px 1px 2px rgba(60, 64, 67, 0.3), 0px 1px 3px 1px rgba(60, 64, 67, 0.15);\n",
              "      fill: #174EA6;\n",
              "    }\n",
              "\n",
              "    .colab-df-buttons div {\n",
              "      margin-bottom: 4px;\n",
              "    }\n",
              "\n",
              "    [theme=dark] .colab-df-convert {\n",
              "      background-color: #3B4455;\n",
              "      fill: #D2E3FC;\n",
              "    }\n",
              "\n",
              "    [theme=dark] .colab-df-convert:hover {\n",
              "      background-color: #434B5C;\n",
              "      box-shadow: 0px 1px 3px 1px rgba(0, 0, 0, 0.15);\n",
              "      filter: drop-shadow(0px 1px 2px rgba(0, 0, 0, 0.3));\n",
              "      fill: #FFFFFF;\n",
              "    }\n",
              "  </style>\n",
              "\n",
              "    <script>\n",
              "      const buttonEl =\n",
              "        document.querySelector('#df-a0617ae4-3b46-4d64-95f3-829a8c189fe9 button.colab-df-convert');\n",
              "      buttonEl.style.display =\n",
              "        google.colab.kernel.accessAllowed ? 'block' : 'none';\n",
              "\n",
              "      async function convertToInteractive(key) {\n",
              "        const element = document.querySelector('#df-a0617ae4-3b46-4d64-95f3-829a8c189fe9');\n",
              "        const dataTable =\n",
              "          await google.colab.kernel.invokeFunction('convertToInteractive',\n",
              "                                                    [key], {});\n",
              "        if (!dataTable) return;\n",
              "\n",
              "        const docLinkHtml = 'Like what you see? Visit the ' +\n",
              "          '<a target=\"_blank\" href=https://colab.research.google.com/notebooks/data_table.ipynb>data table notebook</a>'\n",
              "          + ' to learn more about interactive tables.';\n",
              "        element.innerHTML = '';\n",
              "        dataTable['output_type'] = 'display_data';\n",
              "        await google.colab.output.renderOutput(dataTable, element);\n",
              "        const docLink = document.createElement('div');\n",
              "        docLink.innerHTML = docLinkHtml;\n",
              "        element.appendChild(docLink);\n",
              "      }\n",
              "    </script>\n",
              "  </div>\n",
              "\n",
              "\n",
              "<div id=\"df-c9dd87e9-e105-4753-9a75-850f7566d6cc\">\n",
              "  <button class=\"colab-df-quickchart\" onclick=\"quickchart('df-c9dd87e9-e105-4753-9a75-850f7566d6cc')\"\n",
              "            title=\"Suggest charts\"\n",
              "            style=\"display:none;\">\n",
              "\n",
              "<svg xmlns=\"http://www.w3.org/2000/svg\" height=\"24px\"viewBox=\"0 0 24 24\"\n",
              "     width=\"24px\">\n",
              "    <g>\n",
              "        <path d=\"M19 3H5c-1.1 0-2 .9-2 2v14c0 1.1.9 2 2 2h14c1.1 0 2-.9 2-2V5c0-1.1-.9-2-2-2zM9 17H7v-7h2v7zm4 0h-2V7h2v10zm4 0h-2v-4h2v4z\"/>\n",
              "    </g>\n",
              "</svg>\n",
              "  </button>\n",
              "\n",
              "<style>\n",
              "  .colab-df-quickchart {\n",
              "      --bg-color: #E8F0FE;\n",
              "      --fill-color: #1967D2;\n",
              "      --hover-bg-color: #E2EBFA;\n",
              "      --hover-fill-color: #174EA6;\n",
              "      --disabled-fill-color: #AAA;\n",
              "      --disabled-bg-color: #DDD;\n",
              "  }\n",
              "\n",
              "  [theme=dark] .colab-df-quickchart {\n",
              "      --bg-color: #3B4455;\n",
              "      --fill-color: #D2E3FC;\n",
              "      --hover-bg-color: #434B5C;\n",
              "      --hover-fill-color: #FFFFFF;\n",
              "      --disabled-bg-color: #3B4455;\n",
              "      --disabled-fill-color: #666;\n",
              "  }\n",
              "\n",
              "  .colab-df-quickchart {\n",
              "    background-color: var(--bg-color);\n",
              "    border: none;\n",
              "    border-radius: 50%;\n",
              "    cursor: pointer;\n",
              "    display: none;\n",
              "    fill: var(--fill-color);\n",
              "    height: 32px;\n",
              "    padding: 0;\n",
              "    width: 32px;\n",
              "  }\n",
              "\n",
              "  .colab-df-quickchart:hover {\n",
              "    background-color: var(--hover-bg-color);\n",
              "    box-shadow: 0 1px 2px rgba(60, 64, 67, 0.3), 0 1px 3px 1px rgba(60, 64, 67, 0.15);\n",
              "    fill: var(--button-hover-fill-color);\n",
              "  }\n",
              "\n",
              "  .colab-df-quickchart-complete:disabled,\n",
              "  .colab-df-quickchart-complete:disabled:hover {\n",
              "    background-color: var(--disabled-bg-color);\n",
              "    fill: var(--disabled-fill-color);\n",
              "    box-shadow: none;\n",
              "  }\n",
              "\n",
              "  .colab-df-spinner {\n",
              "    border: 2px solid var(--fill-color);\n",
              "    border-color: transparent;\n",
              "    border-bottom-color: var(--fill-color);\n",
              "    animation:\n",
              "      spin 1s steps(1) infinite;\n",
              "  }\n",
              "\n",
              "  @keyframes spin {\n",
              "    0% {\n",
              "      border-color: transparent;\n",
              "      border-bottom-color: var(--fill-color);\n",
              "      border-left-color: var(--fill-color);\n",
              "    }\n",
              "    20% {\n",
              "      border-color: transparent;\n",
              "      border-left-color: var(--fill-color);\n",
              "      border-top-color: var(--fill-color);\n",
              "    }\n",
              "    30% {\n",
              "      border-color: transparent;\n",
              "      border-left-color: var(--fill-color);\n",
              "      border-top-color: var(--fill-color);\n",
              "      border-right-color: var(--fill-color);\n",
              "    }\n",
              "    40% {\n",
              "      border-color: transparent;\n",
              "      border-right-color: var(--fill-color);\n",
              "      border-top-color: var(--fill-color);\n",
              "    }\n",
              "    60% {\n",
              "      border-color: transparent;\n",
              "      border-right-color: var(--fill-color);\n",
              "    }\n",
              "    80% {\n",
              "      border-color: transparent;\n",
              "      border-right-color: var(--fill-color);\n",
              "      border-bottom-color: var(--fill-color);\n",
              "    }\n",
              "    90% {\n",
              "      border-color: transparent;\n",
              "      border-bottom-color: var(--fill-color);\n",
              "    }\n",
              "  }\n",
              "</style>\n",
              "\n",
              "  <script>\n",
              "    async function quickchart(key) {\n",
              "      const quickchartButtonEl =\n",
              "        document.querySelector('#' + key + ' button');\n",
              "      quickchartButtonEl.disabled = true;  // To prevent multiple clicks.\n",
              "      quickchartButtonEl.classList.add('colab-df-spinner');\n",
              "      try {\n",
              "        const charts = await google.colab.kernel.invokeFunction(\n",
              "            'suggestCharts', [key], {});\n",
              "      } catch (error) {\n",
              "        console.error('Error during call to suggestCharts:', error);\n",
              "      }\n",
              "      quickchartButtonEl.classList.remove('colab-df-spinner');\n",
              "      quickchartButtonEl.classList.add('colab-df-quickchart-complete');\n",
              "    }\n",
              "    (() => {\n",
              "      let quickchartButtonEl =\n",
              "        document.querySelector('#df-c9dd87e9-e105-4753-9a75-850f7566d6cc button');\n",
              "      quickchartButtonEl.style.display =\n",
              "        google.colab.kernel.accessAllowed ? 'block' : 'none';\n",
              "    })();\n",
              "  </script>\n",
              "</div>\n",
              "\n",
              "  <div id=\"id_6819430b-4dfc-4233-9c76-e9e021b1d208\">\n",
              "    <style>\n",
              "      .colab-df-generate {\n",
              "        background-color: #E8F0FE;\n",
              "        border: none;\n",
              "        border-radius: 50%;\n",
              "        cursor: pointer;\n",
              "        display: none;\n",
              "        fill: #1967D2;\n",
              "        height: 32px;\n",
              "        padding: 0 0 0 0;\n",
              "        width: 32px;\n",
              "      }\n",
              "\n",
              "      .colab-df-generate:hover {\n",
              "        background-color: #E2EBFA;\n",
              "        box-shadow: 0px 1px 2px rgba(60, 64, 67, 0.3), 0px 1px 3px 1px rgba(60, 64, 67, 0.15);\n",
              "        fill: #174EA6;\n",
              "      }\n",
              "\n",
              "      [theme=dark] .colab-df-generate {\n",
              "        background-color: #3B4455;\n",
              "        fill: #D2E3FC;\n",
              "      }\n",
              "\n",
              "      [theme=dark] .colab-df-generate:hover {\n",
              "        background-color: #434B5C;\n",
              "        box-shadow: 0px 1px 3px 1px rgba(0, 0, 0, 0.15);\n",
              "        filter: drop-shadow(0px 1px 2px rgba(0, 0, 0, 0.3));\n",
              "        fill: #FFFFFF;\n",
              "      }\n",
              "    </style>\n",
              "    <button class=\"colab-df-generate\" onclick=\"generateWithVariable('data')\"\n",
              "            title=\"Generate code using this dataframe.\"\n",
              "            style=\"display:none;\">\n",
              "\n",
              "  <svg xmlns=\"http://www.w3.org/2000/svg\" height=\"24px\"viewBox=\"0 0 24 24\"\n",
              "       width=\"24px\">\n",
              "    <path d=\"M7,19H8.4L18.45,9,17,7.55,7,17.6ZM5,21V16.75L18.45,3.32a2,2,0,0,1,2.83,0l1.4,1.43a1.91,1.91,0,0,1,.58,1.4,1.91,1.91,0,0,1-.58,1.4L9.25,21ZM18.45,9,17,7.55Zm-12,3A5.31,5.31,0,0,0,4.9,8.1,5.31,5.31,0,0,0,1,6.5,5.31,5.31,0,0,0,4.9,4.9,5.31,5.31,0,0,0,6.5,1,5.31,5.31,0,0,0,8.1,4.9,5.31,5.31,0,0,0,12,6.5,5.46,5.46,0,0,0,6.5,12Z\"/>\n",
              "  </svg>\n",
              "    </button>\n",
              "    <script>\n",
              "      (() => {\n",
              "      const buttonEl =\n",
              "        document.querySelector('#id_6819430b-4dfc-4233-9c76-e9e021b1d208 button.colab-df-generate');\n",
              "      buttonEl.style.display =\n",
              "        google.colab.kernel.accessAllowed ? 'block' : 'none';\n",
              "\n",
              "      buttonEl.onclick = () => {\n",
              "        google.colab.notebook.generateWithVariable('data');\n",
              "      }\n",
              "      })();\n",
              "    </script>\n",
              "  </div>\n",
              "\n",
              "    </div>\n",
              "  </div>\n"
            ],
            "application/vnd.google.colaboratory.intrinsic+json": {
              "type": "dataframe",
              "variable_name": "data",
              "summary": "{\n  \"name\": \"data\",\n  \"rows\": 4049,\n  \"fields\": [\n    {\n      \"column\": \"Textos_espanol\",\n      \"properties\": {\n        \"dtype\": \"string\",\n        \"num_unique_values\": 4049,\n        \"samples\": [\n          \"Los directores de escuela reclutados bajo el nuevo proceso de contrataci\\u00f3n pueden nombrar y despedir a los miembros de su equipo de liderazgo escolar y proponer el despido de hasta el 5% de los docentes de su escuela que hayan sido mal evaluados en el sistema nacional de evaluaci\\u00f3n de docentes. Al mismo tiempo, este nuevo marco ha establecido un mayor grado de responsabilidad para los directores de escuela. Seg\\u00fan el nuevo proceso de contrataci\\u00f3n, todos los directores de escuela son nombrados por un per\\u00edodo de cinco a\\u00f1os, despu\\u00e9s de lo cual deben volver a presentar una solicitud. Esto brinda la oportunidad de reevaluar peri\\u00f3dicamente, reconocer y reconocer a los directores que se desempe\\u00f1an bien y proporcionar incentivos para el desarrollo y la mejora continuos.\",\n          \"En su segunda fase integr\\u00f3 una historia cl\\u00ednica personal (con diagn\\u00f3sticos y tratamientos), con el sistema nacional de citas, para la atenci\\u00f3n electiva programada. Es importante destacar que la EDUS tambi\\u00e9n contiene un registro \\\"familiar\\\" de cada persona, en el que se registran sistem\\u00e1ticamente los factores determinantes de la salud y el bienestar, como otros miembros de la familia con enfermedades complejas y cualquier dificultad econ\\u00f3mica o de vivienda. Esto permite una evaluaci\\u00f3n m\\u00e1s completa de las necesidades individuales, as\\u00ed como elaborar perfiles sanitarios de la poblaci\\u00f3n local y predecir sus necesidades. En el futuro, la EDUS se vincular\\u00e1 a las im\\u00e1genes digitales, los registros de laboratorio, los registros de farmacia y las notas cl\\u00ednicas de los pacientes hospitalizados (tanto de enfermer\\u00eda como m\\u00e9dicas).\",\n          \"Como prioridad, se deben tomar medidas para garantizar que la capacidad de pago no sea un factor para acceder a la atenci\\u00f3n m\\u00e9dica. En particular, se deben investigar las razones que subyacen a la baja aceptaci\\u00f3n de las pruebas de detecci\\u00f3n del c\\u00e1ncer de mama y de cuello uterino. Comprender la variaci\\u00f3n a nivel de proveedor ser\\u00e1 fundamental para abordar las bajas tasas de supervivencia de Letonia despu\\u00e9s de un ataque al coraz\\u00f3n o un accidente cerebrovascular, por ejemplo.\"\n        ],\n        \"semantic_type\": \"\",\n        \"description\": \"\"\n      }\n    },\n    {\n      \"column\": \"sdg\",\n      \"properties\": {\n        \"dtype\": \"number\",\n        \"std\": 0,\n        \"min\": 3,\n        \"max\": 5,\n        \"num_unique_values\": 3,\n        \"samples\": [\n          3,\n          4,\n          5\n        ],\n        \"semantic_type\": \"\",\n        \"description\": \"\"\n      }\n    }\n  ]\n}"
            }
          },
          "metadata": {}
        }
      ],
      "source": [
        "#Ruta del archivo Excel\n",
        "train_data = '/content/sample_data/ODScat_345.xlsx'\n",
        "test_data = '/content/sample_data/TestODScat_345.xlsx'\n",
        "\n",
        "#Cargar el archivo Excel\n",
        "data = pd.read_excel(train_data)\n",
        "test_data = pd.read_excel(test_data)\n",
        "\n",
        "#Visualizar los datos para corroborar que hayan quedado bien\n",
        "pd.set_option('display.max_colwidth', None)\n",
        "display(data)\n"
      ]
    },
    {
      "cell_type": "markdown",
      "metadata": {
        "id": "MTKJe8VE7n_e"
      },
      "source": [
        "##Exploración inicial de los datos\n",
        "\n",
        "Luego de cargar los datos, se realizó una exploración inicial para obtener un entendimiento general del conjunto de datos. Esto incluye revisar las dimensiones, tipos de datos de las columnas y una muestra de los mismos para tener una idea clara de cómo están estructurados."
      ]
    },
    {
      "cell_type": "code",
      "execution_count": null,
      "metadata": {
        "id": "pBRUGSZQ4-_v",
        "colab": {
          "base_uri": "https://localhost:8080/"
        },
        "outputId": "f59c6313-ca57-495e-e10d-4e8c5f5cb1ed"
      },
      "outputs": [
        {
          "output_type": "execute_result",
          "data": {
            "text/plain": [
              "(4049, 2)"
            ]
          },
          "metadata": {},
          "execution_count": 15
        }
      ],
      "source": [
        "#Dimensiones del conjunto de datos\n",
        "data.shape"
      ]
    },
    {
      "cell_type": "markdown",
      "metadata": {
        "id": "93aTTJDF1j7m"
      },
      "source": [
        "Teniendo en cuenta lo anterior, se determina que el dataframe cuenta con 4049 filas y 2 columnas.\n",
        "\n",
        "Cada fila representa una opinión ciudadana relacionadas al tema de las ODS junto con un número que representa el ODS específico al que el texto está asociado.\n",
        "\n",
        "Entender esto será útil para analizar la efectividad de clasificación de las opiniones, con el fin de desarrollar modelos que puedan predecir la categorización de la opinión dentro de las ODS específicas."
      ]
    },
    {
      "cell_type": "code",
      "execution_count": null,
      "metadata": {
        "id": "ud-yExc96_3V",
        "colab": {
          "base_uri": "https://localhost:8080/",
          "height": 147
        },
        "outputId": "df63bb8d-ef4a-4d96-c9c8-63194d0477ba"
      },
      "outputs": [
        {
          "output_type": "execute_result",
          "data": {
            "text/plain": [
              "Textos_espanol    object\n",
              "sdg                int64\n",
              "dtype: object"
            ],
            "text/html": [
              "<div>\n",
              "<style scoped>\n",
              "    .dataframe tbody tr th:only-of-type {\n",
              "        vertical-align: middle;\n",
              "    }\n",
              "\n",
              "    .dataframe tbody tr th {\n",
              "        vertical-align: top;\n",
              "    }\n",
              "\n",
              "    .dataframe thead th {\n",
              "        text-align: right;\n",
              "    }\n",
              "</style>\n",
              "<table border=\"1\" class=\"dataframe\">\n",
              "  <thead>\n",
              "    <tr style=\"text-align: right;\">\n",
              "      <th></th>\n",
              "      <th>0</th>\n",
              "    </tr>\n",
              "  </thead>\n",
              "  <tbody>\n",
              "    <tr>\n",
              "      <th>Textos_espanol</th>\n",
              "      <td>object</td>\n",
              "    </tr>\n",
              "    <tr>\n",
              "      <th>sdg</th>\n",
              "      <td>int64</td>\n",
              "    </tr>\n",
              "  </tbody>\n",
              "</table>\n",
              "</div><br><label><b>dtype:</b> object</label>"
            ]
          },
          "metadata": {},
          "execution_count": 16
        }
      ],
      "source": [
        "#Visualizar los tipos de datos de las columnas\n",
        "data.dtypes"
      ]
    },
    {
      "cell_type": "markdown",
      "metadata": {
        "id": "-N877YK04Smb"
      },
      "source": [
        "La información anterior, permite planificar la limpieza y el preprocesamiento de los datos adecuadamente.\n",
        "\n",
        "Se cuentan con una variable de tipo object lo cual indica que contiene texto y, con una variable númerica de tipo int."
      ]
    },
    {
      "cell_type": "code",
      "execution_count": null,
      "metadata": {
        "id": "Lv3BtzSRIYAe",
        "colab": {
          "base_uri": "https://localhost:8080/",
          "height": 727
        },
        "outputId": "3d4c345c-eab3-4e2f-ab0a-9bae17a185d6"
      },
      "outputs": [
        {
          "output_type": "execute_result",
          "data": {
            "text/plain": [
              "                                                                                                                                                                                                                                                                                                                                                                                                                                                                                                                                                                                                                                                                                                                                                                                                                                                                                                                                                                                                                                                                                                                                                                                                 Textos_espanol  \\\n",
              "660   Para reforzar la garantía de la calidad de la asistencia, la atención no debe centrarse únicamente en el número de profesionales, sino también en sus perfiles profesionales y en la calidad de su actuación en la práctica. Se han tomado varias medidas para reforzar la posición de los ciudadanos/pacientes, centrándose en la tramitación de las reclamaciones. Sería aconsejable que Turquía dispusiera de más información de dominio público sobre el funcionamiento de los servicios sanitarios, y que la recogida sistemática de las experiencias de los usuarios de los servicios sanitarios estuviera más extendida. Cabe esperar que se siga trabajando en registros específicos. Es prioritario optimizar el uso de los datos administrativos, prestando especial atención a la mejora del intercambio de datos entre el Ministerio de Sanidad y el SSI. Es aconsejable una política coherente sobre cómo reforzar la infraestructura de información turca para facilitar el uso de indicadores de calidad, abordando temas como la vinculación de datos, el uso secundario de los datos de los historiales médicos electrónicos y la garantía de la privacidad y la seguridad de los datos.   \n",
              "2851                                                                                                                                                                                                                                                                                                                                                                                                                                                                                                                                                                                    La viudedad puede acarrear dificultades económicas y vulnerabilidad para las mujeres. Las condiciones de los derechos también están relacionadas con normas más específicas de las pensiones: por ejemplo, cuántos años de cotización se requieren (el llamado \"periodo de inversión\"), el umbral de ingresos o activos para las prestaciones sujetas a la comprobación de recursos, y si las prestaciones se basan en los derechos o dependen de los recursos disponibles y las listas de espera. Las condiciones del derecho definen quién puede obtener una prestación y cómo se distribuye finalmente la cobertura.   \n",
              "3573                                                                                                                                                                                                                                                                                                                                                                                                                                                                                                                                                          Este capítulo explora cómo México puede enfrentar esos desafíos y los pasos que puede tomar para cerrar las brechas de género restantes en los principales puestos públicos de toma de decisiones. Mientras que las mujeres representaban solo el 22,6% de los miembros del parlamento en la Cámara de Diputados (Cámara de Diputados) en 2005, actualmente ocupan el 42,37% de los 500 escaños. En la Cámara de Senadores (Senado) ocupan el 33,6% de los 128 escaños, en comparación con el 17,19% en 2006. Dicha representación está muy por encima del promedio de la OCDE de 28,47% de escaños en cámaras bajas y legislaturas unicamerales.   \n",
              "3708                                                                                                                                                                                                                                                                                                                                                                                                                                                                                                                               Yu (2014) utiliza datos de los Estudios de Panel de Familias de China (CFPS) de 2010 y encuentra que el tiempo en el mercado laboral de las mujeres casadas y el nivel de ingresos están asociados negativamente con el tiempo que dedican a las tareas domésticas. Sus hallazgos indican un fenómeno llamado \"exhibición de género\" por el cual las esposas no logran reducir su tiempo de trabajo doméstico incluso cuando sus ingresos relativos aumentan hasta el punto de que ganan más que sus maridos. Las encuestas de uso del tiempo (TUS) han sido invaluables para estimar el tiempo que aportan los miembros del hogar y para medir todas las formas de trabajo.   \n",
              "3655                                                                                                                                                                                                                                                                                                                                                                                               La protection economique des femmes en age avance, depende aujourd'hui de plusieurs facteurs lie,y comprende des regies des systemes de retraite, des condition du marche du travail et des dispositions fa-miliales prises a diversos momentos. Cet artículo se penche sur les regies des systemes de retraite et leur interacción avec d'autres conditions sociales et du marche du travail au cours de la vie d'une femme, pour reproduire ou attenuer les inegalites entre les sexes au moment de la vieillesse. Une rubrique separee est consacree aux systemes de retraite sans cotisation, a leur evolution dans le monde et au potentiel qu'ils ont de resoudre les lacunes existantes en matiere d'acces a la protection au moment de la vieillesse, independamment du sexe et du niveau de revenu.   \n",
              "\n",
              "      sdg  \n",
              "660     3  \n",
              "2851    5  \n",
              "3573    5  \n",
              "3708    5  \n",
              "3655    5  "
            ],
            "text/html": [
              "\n",
              "  <div id=\"df-92b01d87-1f6a-4388-bee3-a42dce6cdc7d\" class=\"colab-df-container\">\n",
              "    <div>\n",
              "<style scoped>\n",
              "    .dataframe tbody tr th:only-of-type {\n",
              "        vertical-align: middle;\n",
              "    }\n",
              "\n",
              "    .dataframe tbody tr th {\n",
              "        vertical-align: top;\n",
              "    }\n",
              "\n",
              "    .dataframe thead th {\n",
              "        text-align: right;\n",
              "    }\n",
              "</style>\n",
              "<table border=\"1\" class=\"dataframe\">\n",
              "  <thead>\n",
              "    <tr style=\"text-align: right;\">\n",
              "      <th></th>\n",
              "      <th>Textos_espanol</th>\n",
              "      <th>sdg</th>\n",
              "    </tr>\n",
              "  </thead>\n",
              "  <tbody>\n",
              "    <tr>\n",
              "      <th>660</th>\n",
              "      <td>Para reforzar la garantía de la calidad de la asistencia, la atención no debe centrarse únicamente en el número de profesionales, sino también en sus perfiles profesionales y en la calidad de su actuación en la práctica. Se han tomado varias medidas para reforzar la posición de los ciudadanos/pacientes, centrándose en la tramitación de las reclamaciones. Sería aconsejable que Turquía dispusiera de más información de dominio público sobre el funcionamiento de los servicios sanitarios, y que la recogida sistemática de las experiencias de los usuarios de los servicios sanitarios estuviera más extendida. Cabe esperar que se siga trabajando en registros específicos. Es prioritario optimizar el uso de los datos administrativos, prestando especial atención a la mejora del intercambio de datos entre el Ministerio de Sanidad y el SSI. Es aconsejable una política coherente sobre cómo reforzar la infraestructura de información turca para facilitar el uso de indicadores de calidad, abordando temas como la vinculación de datos, el uso secundario de los datos de los historiales médicos electrónicos y la garantía de la privacidad y la seguridad de los datos.</td>\n",
              "      <td>3</td>\n",
              "    </tr>\n",
              "    <tr>\n",
              "      <th>2851</th>\n",
              "      <td>La viudedad puede acarrear dificultades económicas y vulnerabilidad para las mujeres. Las condiciones de los derechos también están relacionadas con normas más específicas de las pensiones: por ejemplo, cuántos años de cotización se requieren (el llamado \"periodo de inversión\"), el umbral de ingresos o activos para las prestaciones sujetas a la comprobación de recursos, y si las prestaciones se basan en los derechos o dependen de los recursos disponibles y las listas de espera. Las condiciones del derecho definen quién puede obtener una prestación y cómo se distribuye finalmente la cobertura.</td>\n",
              "      <td>5</td>\n",
              "    </tr>\n",
              "    <tr>\n",
              "      <th>3573</th>\n",
              "      <td>Este capítulo explora cómo México puede enfrentar esos desafíos y los pasos que puede tomar para cerrar las brechas de género restantes en los principales puestos públicos de toma de decisiones. Mientras que las mujeres representaban solo el 22,6% de los miembros del parlamento en la Cámara de Diputados (Cámara de Diputados) en 2005, actualmente ocupan el 42,37% de los 500 escaños. En la Cámara de Senadores (Senado) ocupan el 33,6% de los 128 escaños, en comparación con el 17,19% en 2006. Dicha representación está muy por encima del promedio de la OCDE de 28,47% de escaños en cámaras bajas y legislaturas unicamerales.</td>\n",
              "      <td>5</td>\n",
              "    </tr>\n",
              "    <tr>\n",
              "      <th>3708</th>\n",
              "      <td>Yu (2014) utiliza datos de los Estudios de Panel de Familias de China (CFPS) de 2010 y encuentra que el tiempo en el mercado laboral de las mujeres casadas y el nivel de ingresos están asociados negativamente con el tiempo que dedican a las tareas domésticas. Sus hallazgos indican un fenómeno llamado \"exhibición de género\" por el cual las esposas no logran reducir su tiempo de trabajo doméstico incluso cuando sus ingresos relativos aumentan hasta el punto de que ganan más que sus maridos. Las encuestas de uso del tiempo (TUS) han sido invaluables para estimar el tiempo que aportan los miembros del hogar y para medir todas las formas de trabajo.</td>\n",
              "      <td>5</td>\n",
              "    </tr>\n",
              "    <tr>\n",
              "      <th>3655</th>\n",
              "      <td>La protection economique des femmes en age avance, depende aujourd'hui de plusieurs facteurs lie,y comprende des regies des systemes de retraite, des condition du marche du travail et des dispositions fa-miliales prises a diversos momentos. Cet artículo se penche sur les regies des systemes de retraite et leur interacción avec d'autres conditions sociales et du marche du travail au cours de la vie d'une femme, pour reproduire ou attenuer les inegalites entre les sexes au moment de la vieillesse. Une rubrique separee est consacree aux systemes de retraite sans cotisation, a leur evolution dans le monde et au potentiel qu'ils ont de resoudre les lacunes existantes en matiere d'acces a la protection au moment de la vieillesse, independamment du sexe et du niveau de revenu.</td>\n",
              "      <td>5</td>\n",
              "    </tr>\n",
              "  </tbody>\n",
              "</table>\n",
              "</div>\n",
              "    <div class=\"colab-df-buttons\">\n",
              "\n",
              "  <div class=\"colab-df-container\">\n",
              "    <button class=\"colab-df-convert\" onclick=\"convertToInteractive('df-92b01d87-1f6a-4388-bee3-a42dce6cdc7d')\"\n",
              "            title=\"Convert this dataframe to an interactive table.\"\n",
              "            style=\"display:none;\">\n",
              "\n",
              "  <svg xmlns=\"http://www.w3.org/2000/svg\" height=\"24px\" viewBox=\"0 -960 960 960\">\n",
              "    <path d=\"M120-120v-720h720v720H120Zm60-500h600v-160H180v160Zm220 220h160v-160H400v160Zm0 220h160v-160H400v160ZM180-400h160v-160H180v160Zm440 0h160v-160H620v160ZM180-180h160v-160H180v160Zm440 0h160v-160H620v160Z\"/>\n",
              "  </svg>\n",
              "    </button>\n",
              "\n",
              "  <style>\n",
              "    .colab-df-container {\n",
              "      display:flex;\n",
              "      gap: 12px;\n",
              "    }\n",
              "\n",
              "    .colab-df-convert {\n",
              "      background-color: #E8F0FE;\n",
              "      border: none;\n",
              "      border-radius: 50%;\n",
              "      cursor: pointer;\n",
              "      display: none;\n",
              "      fill: #1967D2;\n",
              "      height: 32px;\n",
              "      padding: 0 0 0 0;\n",
              "      width: 32px;\n",
              "    }\n",
              "\n",
              "    .colab-df-convert:hover {\n",
              "      background-color: #E2EBFA;\n",
              "      box-shadow: 0px 1px 2px rgba(60, 64, 67, 0.3), 0px 1px 3px 1px rgba(60, 64, 67, 0.15);\n",
              "      fill: #174EA6;\n",
              "    }\n",
              "\n",
              "    .colab-df-buttons div {\n",
              "      margin-bottom: 4px;\n",
              "    }\n",
              "\n",
              "    [theme=dark] .colab-df-convert {\n",
              "      background-color: #3B4455;\n",
              "      fill: #D2E3FC;\n",
              "    }\n",
              "\n",
              "    [theme=dark] .colab-df-convert:hover {\n",
              "      background-color: #434B5C;\n",
              "      box-shadow: 0px 1px 3px 1px rgba(0, 0, 0, 0.15);\n",
              "      filter: drop-shadow(0px 1px 2px rgba(0, 0, 0, 0.3));\n",
              "      fill: #FFFFFF;\n",
              "    }\n",
              "  </style>\n",
              "\n",
              "    <script>\n",
              "      const buttonEl =\n",
              "        document.querySelector('#df-92b01d87-1f6a-4388-bee3-a42dce6cdc7d button.colab-df-convert');\n",
              "      buttonEl.style.display =\n",
              "        google.colab.kernel.accessAllowed ? 'block' : 'none';\n",
              "\n",
              "      async function convertToInteractive(key) {\n",
              "        const element = document.querySelector('#df-92b01d87-1f6a-4388-bee3-a42dce6cdc7d');\n",
              "        const dataTable =\n",
              "          await google.colab.kernel.invokeFunction('convertToInteractive',\n",
              "                                                    [key], {});\n",
              "        if (!dataTable) return;\n",
              "\n",
              "        const docLinkHtml = 'Like what you see? Visit the ' +\n",
              "          '<a target=\"_blank\" href=https://colab.research.google.com/notebooks/data_table.ipynb>data table notebook</a>'\n",
              "          + ' to learn more about interactive tables.';\n",
              "        element.innerHTML = '';\n",
              "        dataTable['output_type'] = 'display_data';\n",
              "        await google.colab.output.renderOutput(dataTable, element);\n",
              "        const docLink = document.createElement('div');\n",
              "        docLink.innerHTML = docLinkHtml;\n",
              "        element.appendChild(docLink);\n",
              "      }\n",
              "    </script>\n",
              "  </div>\n",
              "\n",
              "\n",
              "<div id=\"df-a856f133-ee91-4d13-9dd3-c5480c738b64\">\n",
              "  <button class=\"colab-df-quickchart\" onclick=\"quickchart('df-a856f133-ee91-4d13-9dd3-c5480c738b64')\"\n",
              "            title=\"Suggest charts\"\n",
              "            style=\"display:none;\">\n",
              "\n",
              "<svg xmlns=\"http://www.w3.org/2000/svg\" height=\"24px\"viewBox=\"0 0 24 24\"\n",
              "     width=\"24px\">\n",
              "    <g>\n",
              "        <path d=\"M19 3H5c-1.1 0-2 .9-2 2v14c0 1.1.9 2 2 2h14c1.1 0 2-.9 2-2V5c0-1.1-.9-2-2-2zM9 17H7v-7h2v7zm4 0h-2V7h2v10zm4 0h-2v-4h2v4z\"/>\n",
              "    </g>\n",
              "</svg>\n",
              "  </button>\n",
              "\n",
              "<style>\n",
              "  .colab-df-quickchart {\n",
              "      --bg-color: #E8F0FE;\n",
              "      --fill-color: #1967D2;\n",
              "      --hover-bg-color: #E2EBFA;\n",
              "      --hover-fill-color: #174EA6;\n",
              "      --disabled-fill-color: #AAA;\n",
              "      --disabled-bg-color: #DDD;\n",
              "  }\n",
              "\n",
              "  [theme=dark] .colab-df-quickchart {\n",
              "      --bg-color: #3B4455;\n",
              "      --fill-color: #D2E3FC;\n",
              "      --hover-bg-color: #434B5C;\n",
              "      --hover-fill-color: #FFFFFF;\n",
              "      --disabled-bg-color: #3B4455;\n",
              "      --disabled-fill-color: #666;\n",
              "  }\n",
              "\n",
              "  .colab-df-quickchart {\n",
              "    background-color: var(--bg-color);\n",
              "    border: none;\n",
              "    border-radius: 50%;\n",
              "    cursor: pointer;\n",
              "    display: none;\n",
              "    fill: var(--fill-color);\n",
              "    height: 32px;\n",
              "    padding: 0;\n",
              "    width: 32px;\n",
              "  }\n",
              "\n",
              "  .colab-df-quickchart:hover {\n",
              "    background-color: var(--hover-bg-color);\n",
              "    box-shadow: 0 1px 2px rgba(60, 64, 67, 0.3), 0 1px 3px 1px rgba(60, 64, 67, 0.15);\n",
              "    fill: var(--button-hover-fill-color);\n",
              "  }\n",
              "\n",
              "  .colab-df-quickchart-complete:disabled,\n",
              "  .colab-df-quickchart-complete:disabled:hover {\n",
              "    background-color: var(--disabled-bg-color);\n",
              "    fill: var(--disabled-fill-color);\n",
              "    box-shadow: none;\n",
              "  }\n",
              "\n",
              "  .colab-df-spinner {\n",
              "    border: 2px solid var(--fill-color);\n",
              "    border-color: transparent;\n",
              "    border-bottom-color: var(--fill-color);\n",
              "    animation:\n",
              "      spin 1s steps(1) infinite;\n",
              "  }\n",
              "\n",
              "  @keyframes spin {\n",
              "    0% {\n",
              "      border-color: transparent;\n",
              "      border-bottom-color: var(--fill-color);\n",
              "      border-left-color: var(--fill-color);\n",
              "    }\n",
              "    20% {\n",
              "      border-color: transparent;\n",
              "      border-left-color: var(--fill-color);\n",
              "      border-top-color: var(--fill-color);\n",
              "    }\n",
              "    30% {\n",
              "      border-color: transparent;\n",
              "      border-left-color: var(--fill-color);\n",
              "      border-top-color: var(--fill-color);\n",
              "      border-right-color: var(--fill-color);\n",
              "    }\n",
              "    40% {\n",
              "      border-color: transparent;\n",
              "      border-right-color: var(--fill-color);\n",
              "      border-top-color: var(--fill-color);\n",
              "    }\n",
              "    60% {\n",
              "      border-color: transparent;\n",
              "      border-right-color: var(--fill-color);\n",
              "    }\n",
              "    80% {\n",
              "      border-color: transparent;\n",
              "      border-right-color: var(--fill-color);\n",
              "      border-bottom-color: var(--fill-color);\n",
              "    }\n",
              "    90% {\n",
              "      border-color: transparent;\n",
              "      border-bottom-color: var(--fill-color);\n",
              "    }\n",
              "  }\n",
              "</style>\n",
              "\n",
              "  <script>\n",
              "    async function quickchart(key) {\n",
              "      const quickchartButtonEl =\n",
              "        document.querySelector('#' + key + ' button');\n",
              "      quickchartButtonEl.disabled = true;  // To prevent multiple clicks.\n",
              "      quickchartButtonEl.classList.add('colab-df-spinner');\n",
              "      try {\n",
              "        const charts = await google.colab.kernel.invokeFunction(\n",
              "            'suggestCharts', [key], {});\n",
              "      } catch (error) {\n",
              "        console.error('Error during call to suggestCharts:', error);\n",
              "      }\n",
              "      quickchartButtonEl.classList.remove('colab-df-spinner');\n",
              "      quickchartButtonEl.classList.add('colab-df-quickchart-complete');\n",
              "    }\n",
              "    (() => {\n",
              "      let quickchartButtonEl =\n",
              "        document.querySelector('#df-a856f133-ee91-4d13-9dd3-c5480c738b64 button');\n",
              "      quickchartButtonEl.style.display =\n",
              "        google.colab.kernel.accessAllowed ? 'block' : 'none';\n",
              "    })();\n",
              "  </script>\n",
              "</div>\n",
              "\n",
              "    </div>\n",
              "  </div>\n"
            ],
            "application/vnd.google.colaboratory.intrinsic+json": {
              "type": "dataframe",
              "summary": "{\n  \"name\": \"data\",\n  \"rows\": 5,\n  \"fields\": [\n    {\n      \"column\": \"Textos_espanol\",\n      \"properties\": {\n        \"dtype\": \"string\",\n        \"num_unique_values\": 5,\n        \"samples\": [\n          \"La viudedad puede acarrear dificultades econ\\u00f3micas y vulnerabilidad para las mujeres. Las condiciones de los derechos tambi\\u00e9n est\\u00e1n relacionadas con normas m\\u00e1s espec\\u00edficas de las pensiones: por ejemplo, cu\\u00e1ntos a\\u00f1os de cotizaci\\u00f3n se requieren (el llamado \\\"periodo de inversi\\u00f3n\\\"), el umbral de ingresos o activos para las prestaciones sujetas a la comprobaci\\u00f3n de recursos, y si las prestaciones se basan en los derechos o dependen de los recursos disponibles y las listas de espera. Las condiciones del derecho definen qui\\u00e9n puede obtener una prestaci\\u00f3n y c\\u00f3mo se distribuye finalmente la cobertura.\",\n          \"La protection economique des femmes en age avance, depende aujourd'hui de plusieurs facteurs lie,y comprende des regies des systemes de retraite, des condition du marche du travail et des dispositions fa-miliales prises a diversos momentos. Cet art\\u00edculo se penche sur les regies des systemes de retraite et leur interacci\\u00f3n avec d'autres conditions sociales et du marche du travail au cours de la vie d'une femme, pour reproduire ou attenuer les inegalites entre les sexes au moment de la vieillesse. Une rubrique separee est consacree aux systemes de retraite sans cotisation, a leur evolution dans le monde et au potentiel qu'ils ont de resoudre les lacunes existantes en matiere d'acces a la protection au moment de la vieillesse, independamment du sexe et du niveau de revenu.\",\n          \"Este cap\\u00edtulo explora c\\u00f3mo M\\u00e9xico puede enfrentar esos desaf\\u00edos y los pasos que puede tomar para cerrar las brechas de g\\u00e9nero restantes en los principales puestos p\\u00fablicos de toma de decisiones. Mientras que las mujeres representaban solo el 22,6% de los miembros del parlamento en la C\\u00e1mara de Diputados (C\\u00e1mara de Diputados) en 2005, actualmente ocupan el 42,37% de los 500 esca\\u00f1os. En la C\\u00e1mara de Senadores (Senado) ocupan el 33,6% de los 128 esca\\u00f1os, en comparaci\\u00f3n con el 17,19% en 2006. Dicha representaci\\u00f3n est\\u00e1 muy por encima del promedio de la OCDE de 28,47% de esca\\u00f1os en c\\u00e1maras bajas y legislaturas unicamerales.\"\n        ],\n        \"semantic_type\": \"\",\n        \"description\": \"\"\n      }\n    },\n    {\n      \"column\": \"sdg\",\n      \"properties\": {\n        \"dtype\": \"number\",\n        \"std\": 0,\n        \"min\": 3,\n        \"max\": 5,\n        \"num_unique_values\": 2,\n        \"samples\": [\n          5,\n          3\n        ],\n        \"semantic_type\": \"\",\n        \"description\": \"\"\n      }\n    }\n  ]\n}"
            }
          },
          "metadata": {},
          "execution_count": 17
        }
      ],
      "source": [
        "#Visualizar una muestra aleatoria del conjunto de datos\n",
        "data.sample(5)"
      ]
    },
    {
      "cell_type": "markdown",
      "metadata": {
        "id": "gjqTQbxO8LZS"
      },
      "source": [
        "##Perfilamiento de los datos\n",
        "\n",
        "A continuación, se presentan estadísticas descriptivas que resumen la tendencia central, dispersión y forma de la distribución de los datos. Dicha información es crucial para entender las características de cada variable y detectar anomalías como valores atípicos."
      ]
    },
    {
      "cell_type": "code",
      "execution_count": null,
      "metadata": {
        "id": "dD9dWLTF8h6j",
        "colab": {
          "base_uri": "https://localhost:8080/",
          "height": 300
        },
        "outputId": "6d21cb98-459a-4fad-c6ad-4b2cd87da683"
      },
      "outputs": [
        {
          "output_type": "execute_result",
          "data": {
            "text/plain": [
              "               sdg\n",
              "count  4049.000000\n",
              "mean      4.051124\n",
              "std       0.814338\n",
              "min       3.000000\n",
              "25%       3.000000\n",
              "50%       4.000000\n",
              "75%       5.000000\n",
              "max       5.000000"
            ],
            "text/html": [
              "\n",
              "  <div id=\"df-ccc46798-1e5b-4688-bb89-e9ed3438933d\" class=\"colab-df-container\">\n",
              "    <div>\n",
              "<style scoped>\n",
              "    .dataframe tbody tr th:only-of-type {\n",
              "        vertical-align: middle;\n",
              "    }\n",
              "\n",
              "    .dataframe tbody tr th {\n",
              "        vertical-align: top;\n",
              "    }\n",
              "\n",
              "    .dataframe thead th {\n",
              "        text-align: right;\n",
              "    }\n",
              "</style>\n",
              "<table border=\"1\" class=\"dataframe\">\n",
              "  <thead>\n",
              "    <tr style=\"text-align: right;\">\n",
              "      <th></th>\n",
              "      <th>sdg</th>\n",
              "    </tr>\n",
              "  </thead>\n",
              "  <tbody>\n",
              "    <tr>\n",
              "      <th>count</th>\n",
              "      <td>4049.000000</td>\n",
              "    </tr>\n",
              "    <tr>\n",
              "      <th>mean</th>\n",
              "      <td>4.051124</td>\n",
              "    </tr>\n",
              "    <tr>\n",
              "      <th>std</th>\n",
              "      <td>0.814338</td>\n",
              "    </tr>\n",
              "    <tr>\n",
              "      <th>min</th>\n",
              "      <td>3.000000</td>\n",
              "    </tr>\n",
              "    <tr>\n",
              "      <th>25%</th>\n",
              "      <td>3.000000</td>\n",
              "    </tr>\n",
              "    <tr>\n",
              "      <th>50%</th>\n",
              "      <td>4.000000</td>\n",
              "    </tr>\n",
              "    <tr>\n",
              "      <th>75%</th>\n",
              "      <td>5.000000</td>\n",
              "    </tr>\n",
              "    <tr>\n",
              "      <th>max</th>\n",
              "      <td>5.000000</td>\n",
              "    </tr>\n",
              "  </tbody>\n",
              "</table>\n",
              "</div>\n",
              "    <div class=\"colab-df-buttons\">\n",
              "\n",
              "  <div class=\"colab-df-container\">\n",
              "    <button class=\"colab-df-convert\" onclick=\"convertToInteractive('df-ccc46798-1e5b-4688-bb89-e9ed3438933d')\"\n",
              "            title=\"Convert this dataframe to an interactive table.\"\n",
              "            style=\"display:none;\">\n",
              "\n",
              "  <svg xmlns=\"http://www.w3.org/2000/svg\" height=\"24px\" viewBox=\"0 -960 960 960\">\n",
              "    <path d=\"M120-120v-720h720v720H120Zm60-500h600v-160H180v160Zm220 220h160v-160H400v160Zm0 220h160v-160H400v160ZM180-400h160v-160H180v160Zm440 0h160v-160H620v160ZM180-180h160v-160H180v160Zm440 0h160v-160H620v160Z\"/>\n",
              "  </svg>\n",
              "    </button>\n",
              "\n",
              "  <style>\n",
              "    .colab-df-container {\n",
              "      display:flex;\n",
              "      gap: 12px;\n",
              "    }\n",
              "\n",
              "    .colab-df-convert {\n",
              "      background-color: #E8F0FE;\n",
              "      border: none;\n",
              "      border-radius: 50%;\n",
              "      cursor: pointer;\n",
              "      display: none;\n",
              "      fill: #1967D2;\n",
              "      height: 32px;\n",
              "      padding: 0 0 0 0;\n",
              "      width: 32px;\n",
              "    }\n",
              "\n",
              "    .colab-df-convert:hover {\n",
              "      background-color: #E2EBFA;\n",
              "      box-shadow: 0px 1px 2px rgba(60, 64, 67, 0.3), 0px 1px 3px 1px rgba(60, 64, 67, 0.15);\n",
              "      fill: #174EA6;\n",
              "    }\n",
              "\n",
              "    .colab-df-buttons div {\n",
              "      margin-bottom: 4px;\n",
              "    }\n",
              "\n",
              "    [theme=dark] .colab-df-convert {\n",
              "      background-color: #3B4455;\n",
              "      fill: #D2E3FC;\n",
              "    }\n",
              "\n",
              "    [theme=dark] .colab-df-convert:hover {\n",
              "      background-color: #434B5C;\n",
              "      box-shadow: 0px 1px 3px 1px rgba(0, 0, 0, 0.15);\n",
              "      filter: drop-shadow(0px 1px 2px rgba(0, 0, 0, 0.3));\n",
              "      fill: #FFFFFF;\n",
              "    }\n",
              "  </style>\n",
              "\n",
              "    <script>\n",
              "      const buttonEl =\n",
              "        document.querySelector('#df-ccc46798-1e5b-4688-bb89-e9ed3438933d button.colab-df-convert');\n",
              "      buttonEl.style.display =\n",
              "        google.colab.kernel.accessAllowed ? 'block' : 'none';\n",
              "\n",
              "      async function convertToInteractive(key) {\n",
              "        const element = document.querySelector('#df-ccc46798-1e5b-4688-bb89-e9ed3438933d');\n",
              "        const dataTable =\n",
              "          await google.colab.kernel.invokeFunction('convertToInteractive',\n",
              "                                                    [key], {});\n",
              "        if (!dataTable) return;\n",
              "\n",
              "        const docLinkHtml = 'Like what you see? Visit the ' +\n",
              "          '<a target=\"_blank\" href=https://colab.research.google.com/notebooks/data_table.ipynb>data table notebook</a>'\n",
              "          + ' to learn more about interactive tables.';\n",
              "        element.innerHTML = '';\n",
              "        dataTable['output_type'] = 'display_data';\n",
              "        await google.colab.output.renderOutput(dataTable, element);\n",
              "        const docLink = document.createElement('div');\n",
              "        docLink.innerHTML = docLinkHtml;\n",
              "        element.appendChild(docLink);\n",
              "      }\n",
              "    </script>\n",
              "  </div>\n",
              "\n",
              "\n",
              "<div id=\"df-9cafb7cd-234f-4022-a952-7fad5c87b1e2\">\n",
              "  <button class=\"colab-df-quickchart\" onclick=\"quickchart('df-9cafb7cd-234f-4022-a952-7fad5c87b1e2')\"\n",
              "            title=\"Suggest charts\"\n",
              "            style=\"display:none;\">\n",
              "\n",
              "<svg xmlns=\"http://www.w3.org/2000/svg\" height=\"24px\"viewBox=\"0 0 24 24\"\n",
              "     width=\"24px\">\n",
              "    <g>\n",
              "        <path d=\"M19 3H5c-1.1 0-2 .9-2 2v14c0 1.1.9 2 2 2h14c1.1 0 2-.9 2-2V5c0-1.1-.9-2-2-2zM9 17H7v-7h2v7zm4 0h-2V7h2v10zm4 0h-2v-4h2v4z\"/>\n",
              "    </g>\n",
              "</svg>\n",
              "  </button>\n",
              "\n",
              "<style>\n",
              "  .colab-df-quickchart {\n",
              "      --bg-color: #E8F0FE;\n",
              "      --fill-color: #1967D2;\n",
              "      --hover-bg-color: #E2EBFA;\n",
              "      --hover-fill-color: #174EA6;\n",
              "      --disabled-fill-color: #AAA;\n",
              "      --disabled-bg-color: #DDD;\n",
              "  }\n",
              "\n",
              "  [theme=dark] .colab-df-quickchart {\n",
              "      --bg-color: #3B4455;\n",
              "      --fill-color: #D2E3FC;\n",
              "      --hover-bg-color: #434B5C;\n",
              "      --hover-fill-color: #FFFFFF;\n",
              "      --disabled-bg-color: #3B4455;\n",
              "      --disabled-fill-color: #666;\n",
              "  }\n",
              "\n",
              "  .colab-df-quickchart {\n",
              "    background-color: var(--bg-color);\n",
              "    border: none;\n",
              "    border-radius: 50%;\n",
              "    cursor: pointer;\n",
              "    display: none;\n",
              "    fill: var(--fill-color);\n",
              "    height: 32px;\n",
              "    padding: 0;\n",
              "    width: 32px;\n",
              "  }\n",
              "\n",
              "  .colab-df-quickchart:hover {\n",
              "    background-color: var(--hover-bg-color);\n",
              "    box-shadow: 0 1px 2px rgba(60, 64, 67, 0.3), 0 1px 3px 1px rgba(60, 64, 67, 0.15);\n",
              "    fill: var(--button-hover-fill-color);\n",
              "  }\n",
              "\n",
              "  .colab-df-quickchart-complete:disabled,\n",
              "  .colab-df-quickchart-complete:disabled:hover {\n",
              "    background-color: var(--disabled-bg-color);\n",
              "    fill: var(--disabled-fill-color);\n",
              "    box-shadow: none;\n",
              "  }\n",
              "\n",
              "  .colab-df-spinner {\n",
              "    border: 2px solid var(--fill-color);\n",
              "    border-color: transparent;\n",
              "    border-bottom-color: var(--fill-color);\n",
              "    animation:\n",
              "      spin 1s steps(1) infinite;\n",
              "  }\n",
              "\n",
              "  @keyframes spin {\n",
              "    0% {\n",
              "      border-color: transparent;\n",
              "      border-bottom-color: var(--fill-color);\n",
              "      border-left-color: var(--fill-color);\n",
              "    }\n",
              "    20% {\n",
              "      border-color: transparent;\n",
              "      border-left-color: var(--fill-color);\n",
              "      border-top-color: var(--fill-color);\n",
              "    }\n",
              "    30% {\n",
              "      border-color: transparent;\n",
              "      border-left-color: var(--fill-color);\n",
              "      border-top-color: var(--fill-color);\n",
              "      border-right-color: var(--fill-color);\n",
              "    }\n",
              "    40% {\n",
              "      border-color: transparent;\n",
              "      border-right-color: var(--fill-color);\n",
              "      border-top-color: var(--fill-color);\n",
              "    }\n",
              "    60% {\n",
              "      border-color: transparent;\n",
              "      border-right-color: var(--fill-color);\n",
              "    }\n",
              "    80% {\n",
              "      border-color: transparent;\n",
              "      border-right-color: var(--fill-color);\n",
              "      border-bottom-color: var(--fill-color);\n",
              "    }\n",
              "    90% {\n",
              "      border-color: transparent;\n",
              "      border-bottom-color: var(--fill-color);\n",
              "    }\n",
              "  }\n",
              "</style>\n",
              "\n",
              "  <script>\n",
              "    async function quickchart(key) {\n",
              "      const quickchartButtonEl =\n",
              "        document.querySelector('#' + key + ' button');\n",
              "      quickchartButtonEl.disabled = true;  // To prevent multiple clicks.\n",
              "      quickchartButtonEl.classList.add('colab-df-spinner');\n",
              "      try {\n",
              "        const charts = await google.colab.kernel.invokeFunction(\n",
              "            'suggestCharts', [key], {});\n",
              "      } catch (error) {\n",
              "        console.error('Error during call to suggestCharts:', error);\n",
              "      }\n",
              "      quickchartButtonEl.classList.remove('colab-df-spinner');\n",
              "      quickchartButtonEl.classList.add('colab-df-quickchart-complete');\n",
              "    }\n",
              "    (() => {\n",
              "      let quickchartButtonEl =\n",
              "        document.querySelector('#df-9cafb7cd-234f-4022-a952-7fad5c87b1e2 button');\n",
              "      quickchartButtonEl.style.display =\n",
              "        google.colab.kernel.accessAllowed ? 'block' : 'none';\n",
              "    })();\n",
              "  </script>\n",
              "</div>\n",
              "\n",
              "    </div>\n",
              "  </div>\n"
            ],
            "application/vnd.google.colaboratory.intrinsic+json": {
              "type": "dataframe",
              "summary": "{\n  \"name\": \"data\",\n  \"rows\": 8,\n  \"fields\": [\n    {\n      \"column\": \"sdg\",\n      \"properties\": {\n        \"dtype\": \"number\",\n        \"std\": 1430.2824196430684,\n        \"min\": 0.8143381286049952,\n        \"max\": 4049.0,\n        \"num_unique_values\": 6,\n        \"samples\": [\n          4049.0,\n          4.051123734255372,\n          5.0\n        ],\n        \"semantic_type\": \"\",\n        \"description\": \"\"\n      }\n    }\n  ]\n}"
            }
          },
          "metadata": {},
          "execution_count": 18
        }
      ],
      "source": [
        "#Estadísticas descriptivas de los datos\n",
        "data.describe()"
      ]
    },
    {
      "cell_type": "markdown",
      "metadata": {
        "id": "zdzF9R_f7Qz4"
      },
      "source": [
        "##Análisis de calidad de datos\n",
        "\n",
        "Finalmente, se evalúa la calidad de los datos revisando la completitud, unicidad, consistencia y validez de los mismos. Esto permite identificar registros duplicados, valores faltantes y otros problemas que pueden afectar el análisis o rendimiento del modelo.\n"
      ]
    },
    {
      "cell_type": "markdown",
      "metadata": {
        "id": "svk_xYA19GbR"
      },
      "source": [
        "###Completitud\n",
        "Evaluar la completitud implica identificar los valores faltantes de los datos, con el fin de tomar decisión en la etapa de limpieza y preparación de los datos."
      ]
    },
    {
      "cell_type": "code",
      "execution_count": null,
      "metadata": {
        "id": "iETjy5BF9Ksh",
        "colab": {
          "base_uri": "https://localhost:8080/",
          "height": 147
        },
        "outputId": "3d10e347-e26c-4f32-c160-cf37d3c1cfa1"
      },
      "outputs": [
        {
          "output_type": "execute_result",
          "data": {
            "text/plain": [
              "Textos_espanol    0\n",
              "sdg               0\n",
              "dtype: int64"
            ],
            "text/html": [
              "<div>\n",
              "<style scoped>\n",
              "    .dataframe tbody tr th:only-of-type {\n",
              "        vertical-align: middle;\n",
              "    }\n",
              "\n",
              "    .dataframe tbody tr th {\n",
              "        vertical-align: top;\n",
              "    }\n",
              "\n",
              "    .dataframe thead th {\n",
              "        text-align: right;\n",
              "    }\n",
              "</style>\n",
              "<table border=\"1\" class=\"dataframe\">\n",
              "  <thead>\n",
              "    <tr style=\"text-align: right;\">\n",
              "      <th></th>\n",
              "      <th>0</th>\n",
              "    </tr>\n",
              "  </thead>\n",
              "  <tbody>\n",
              "    <tr>\n",
              "      <th>Textos_espanol</th>\n",
              "      <td>0</td>\n",
              "    </tr>\n",
              "    <tr>\n",
              "      <th>sdg</th>\n",
              "      <td>0</td>\n",
              "    </tr>\n",
              "  </tbody>\n",
              "</table>\n",
              "</div><br><label><b>dtype:</b> int64</label>"
            ]
          },
          "metadata": {},
          "execution_count": 19
        }
      ],
      "source": [
        "#Mostrar la cantidad de valores nulos por columna\n",
        "data.isnull().sum()"
      ]
    },
    {
      "cell_type": "code",
      "execution_count": null,
      "metadata": {
        "id": "nXXrFFNdH8WP",
        "colab": {
          "base_uri": "https://localhost:8080/",
          "height": 147
        },
        "outputId": "23c37d2d-73d1-4852-c222-b1f0c4e03f42"
      },
      "outputs": [
        {
          "output_type": "execute_result",
          "data": {
            "text/plain": [
              "Textos_espanol    0.0\n",
              "sdg               0.0\n",
              "dtype: float64"
            ],
            "text/html": [
              "<div>\n",
              "<style scoped>\n",
              "    .dataframe tbody tr th:only-of-type {\n",
              "        vertical-align: middle;\n",
              "    }\n",
              "\n",
              "    .dataframe tbody tr th {\n",
              "        vertical-align: top;\n",
              "    }\n",
              "\n",
              "    .dataframe thead th {\n",
              "        text-align: right;\n",
              "    }\n",
              "</style>\n",
              "<table border=\"1\" class=\"dataframe\">\n",
              "  <thead>\n",
              "    <tr style=\"text-align: right;\">\n",
              "      <th></th>\n",
              "      <th>0</th>\n",
              "    </tr>\n",
              "  </thead>\n",
              "  <tbody>\n",
              "    <tr>\n",
              "      <th>Textos_espanol</th>\n",
              "      <td>0.0</td>\n",
              "    </tr>\n",
              "    <tr>\n",
              "      <th>sdg</th>\n",
              "      <td>0.0</td>\n",
              "    </tr>\n",
              "  </tbody>\n",
              "</table>\n",
              "</div><br><label><b>dtype:</b> float64</label>"
            ]
          },
          "metadata": {},
          "execution_count": 20
        }
      ],
      "source": [
        "#Porcentaje de valores faltantes por columna\n",
        "data.isnull().mean() * 100"
      ]
    },
    {
      "cell_type": "markdown",
      "metadata": {
        "id": "CPoCN-HBNez5"
      },
      "source": [
        "Se puede observar que ninguna de las dos columnas del conjunto de datos cuenta con problemas de datos faltantes."
      ]
    },
    {
      "cell_type": "markdown",
      "metadata": {
        "id": "tvcrqcJNOa4e"
      },
      "source": [
        "### Unicidad\n",
        "\n",
        "La unicidad implica asegurarse de que no hayan duplicados totales en los registros, ya que esto puede distorsionar el análisis."
      ]
    },
    {
      "cell_type": "code",
      "execution_count": null,
      "metadata": {
        "id": "NpmWZDIIQUBG",
        "colab": {
          "base_uri": "https://localhost:8080/"
        },
        "outputId": "d4d80339-7178-4e5f-f9f9-4e9f1a6e4ff6"
      },
      "outputs": [
        {
          "output_type": "execute_result",
          "data": {
            "text/plain": [
              "0"
            ]
          },
          "metadata": {},
          "execution_count": 21
        }
      ],
      "source": [
        "#Verificar duplicados\n",
        "data.duplicated().sum()"
      ]
    },
    {
      "cell_type": "markdown",
      "metadata": {
        "id": "2CeRUiYIRDqe"
      },
      "source": [
        "Como se muestra, no hay registros duplicados dentro del conjunto de datos. Esto quiere decir que no hay datos que sean copias exactas de otros registros."
      ]
    },
    {
      "cell_type": "markdown",
      "metadata": {
        "id": "Ef6Flt24PNft"
      },
      "source": [
        "###Consistencia\n",
        "\n",
        "Evaluar la consistencia de los datos hace referencia a que los datos no contengan contradicciones ni errores de lógica.\n",
        "\n",
        "Se puede identificar que hay una consistencia estructural en los datos, en donde cada columna corresponde al tipo de dato que debe ser. Por un lado, la columna 'Textos_espanol' debe corresponder a texto y la columna 'sdg' debe ser un valor numérico entero, tal y como se puede evidenciar en los datos mostrados anteriormente."
      ]
    },
    {
      "cell_type": "markdown",
      "metadata": {
        "id": "NMlZKYOhPZR5"
      },
      "source": [
        "###Validez\n",
        "\n",
        "Finalmente, revisar la validez de los datos asegura que los datos cumplan con los formatos y rangos esperados dentro de lo definido por el negocio."
      ]
    },
    {
      "cell_type": "code",
      "execution_count": null,
      "metadata": {
        "id": "3jSVAIW0fTb3",
        "colab": {
          "base_uri": "https://localhost:8080/",
          "height": 147
        },
        "outputId": "125a7319-51b5-4b3b-805e-2b7e83859a63"
      },
      "outputs": [
        {
          "output_type": "execute_result",
          "data": {
            "text/plain": [
              "Textos_espanol    object\n",
              "sdg                int64\n",
              "dtype: object"
            ],
            "text/html": [
              "<div>\n",
              "<style scoped>\n",
              "    .dataframe tbody tr th:only-of-type {\n",
              "        vertical-align: middle;\n",
              "    }\n",
              "\n",
              "    .dataframe tbody tr th {\n",
              "        vertical-align: top;\n",
              "    }\n",
              "\n",
              "    .dataframe thead th {\n",
              "        text-align: right;\n",
              "    }\n",
              "</style>\n",
              "<table border=\"1\" class=\"dataframe\">\n",
              "  <thead>\n",
              "    <tr style=\"text-align: right;\">\n",
              "      <th></th>\n",
              "      <th>0</th>\n",
              "    </tr>\n",
              "  </thead>\n",
              "  <tbody>\n",
              "    <tr>\n",
              "      <th>Textos_espanol</th>\n",
              "      <td>object</td>\n",
              "    </tr>\n",
              "    <tr>\n",
              "      <th>sdg</th>\n",
              "      <td>int64</td>\n",
              "    </tr>\n",
              "  </tbody>\n",
              "</table>\n",
              "</div><br><label><b>dtype:</b> object</label>"
            ]
          },
          "metadata": {},
          "execution_count": 22
        }
      ],
      "source": [
        "data.dtypes"
      ]
    },
    {
      "cell_type": "code",
      "execution_count": null,
      "metadata": {
        "id": "rN01KbryMYbS",
        "colab": {
          "base_uri": "https://localhost:8080/"
        },
        "outputId": "c829f3ea-4b8f-4f3b-86d8-479bfaca2ea7"
      },
      "outputs": [
        {
          "output_type": "execute_result",
          "data": {
            "text/plain": [
              "(4049, 2)"
            ]
          },
          "metadata": {},
          "execution_count": 23
        }
      ],
      "source": [
        "data.shape"
      ]
    },
    {
      "cell_type": "markdown",
      "metadata": {
        "id": "T_quqCYofTwl"
      },
      "source": [
        "Se observa que la entrada de los datos es válida y los tipos de variables son los adecuados para todos los datos."
      ]
    },
    {
      "cell_type": "markdown",
      "metadata": {
        "id": "mv_FHQzX-O__"
      },
      "source": [
        "##Limpieza y preparación de los datos\n",
        "\n",
        "En este punto, se debe realizar una limpieza de los datos; sin embargo, como se evidenció anteriormente, no se cuenta con datos nulos, duplicados, invalidos e inconsistentes.\n",
        "\n",
        "A pesar de lo anterior, se debe preparar y transformar un poco más los datos antes de introducirlos a los modelos para obtener los resultados esperados.\n",
        "\n",
        "Este proceso de preparación consta de 4 puntos, en donde se filtrarán los datos paso a paso.\n",
        "\n",
        "**Normalización del texto**\n",
        "\n",
        "Convertir el texto completo a minúsculas, eliminar la puntuación y los caracteres y, realizar correcciones ortográficas si es necesario.\n",
        "\n",
        "**Eliminación de stopwords**\n",
        "\n",
        "Quitar las palabras comunes que no aportan significado relevante al análisis (como 'y', 'en', 'un', etc.)\n",
        "\n",
        "**Tokenización**\n",
        "\n",
        "Separar el texto en unidades básicas (tokens), generalmente palabras o frases significativas.\n",
        "\n",
        "**Lematización o Stemming**\n",
        "\n",
        "Reducir las palabras a su raíz para disminuir la variabilidad de las palabras manteniendo un significado.\n"
      ]
    },
    {
      "cell_type": "code",
      "execution_count": null,
      "metadata": {
        "id": "kKnU1J_jrhi7",
        "colab": {
          "base_uri": "https://localhost:8080/",
          "height": 751
        },
        "outputId": "0b2090d2-c201-4d0f-f7b9-ab143c7e7b7e"
      },
      "outputs": [
        {
          "output_type": "execute_result",
          "data": {
            "text/plain": [
              "                                                                                                                                                                                                                                                                                                                                                                                                                                                                                                                                                                                                                                                                                                                                                                                                                                                                                                                                                                                                                                                                                                                                                                                                                                            Textos_espanol  \\\n",
              "0                                                                                                                                                                                                                                                                         Por ejemplo, el nÃºmero de consultas externas de especialistas es de 319 por cada mil derechohabientes en el SP, en comparaciÃ³n con 338 y 620 por cada mil derechohabientes en el IMSS y el ISSSTE, respectivamente. Si bien algunas de estas diferencias pueden reflejar una necesidad desigual (como la poblaciÃ³n ligeramente mayor del ISSSTE), otras no pueden justificarse de esta manera. El nÃºmero de recetas que no pudieron ser surtidas en su totalidad por un farmacÃ©utico debido a la falta de existencias es de 33% dentro del SP en comparaciÃ³n con 14% dentro del IMSS segÃºn los datos de la encuesta (aunque las propias cifras de los institutos de la SS sugieren tasas mÃ¡s altas de recetas surtidas). Ambas cifras se encuentran entre las mÃ¡s altas de la OCDE. El gasto de bolsillo no se ha reducido significativamente en la última década, a pesar de los esfuerzos para lograr la cobertura sanitaria universal a través de la reforma del SP.   \n",
              "1                                                                                                                                                                                                                                                                                                                                                                                                                                                                                                                                                                                                                                                                                                                                                             En 2007, el gobierno central financió directamente solo el 0,3% del gasto total en salud, pero realizó transferencias específicas para el gasto en salud que ascendieron a otro 5,6% del gasto total. La mayor parte del gasto presupuestario en salud lo realizan los gobiernos de los condados. Por lo tanto, los condados pobres solo pueden ofrecer un bajo nivel de atención a la población local. El gobierno provincial proporciona subsidios del lado de la oferta a los hospitales.   \n",
              "2  Claramente, hay muchos otros factores en juego, en particular, una variedad de barreras y determinantes sociales. Estos pueden estar relacionados con el género, la clase, la etnia, la casta, el idioma y la religión, y surgen de estructuras, normas y procesos sociales arraigados que aceptan e incluso fomentan distribuciones injustas de la riqueza y los recursos sociales. Por ejemplo, las personas que viven con el VIH y algunas otras enfermedades crónicas enfrentan altos niveles de estigma y discriminación que dificultan su acceso a pruebas médicas, tratamiento, atención y apoyo. Por lo tanto, los gobiernos que buscan mejorar los estándares de salud querrán mejorar la condición de la mujer, brindar servicios de salud reproductiva efectivos, implementar programas integrales de lactancia materna en línea con las recomendaciones actuales y aumentar las presiones comunitarias contra el aborto selectivo por sexo. Las personas pobres, que carecen de educación e información, o de fondos para opciones más saludables, son más vulnerables al impacto de las ENT que los ricos y es probable que mueran antes. Directa e indirectamente, las ENT tendrán impactos de gran alcance en el progreso hacia los ODM.   \n",
              "\n",
              "   sdg  \\\n",
              "0    3   \n",
              "1    3   \n",
              "2    3   \n",
              "\n",
              "                                                                                                                                                                                                                                                                                                                                                                                                                                                                                                                                                                                                                                                                                       Textos_limpio  \n",
              "0                                                                                                                                                                                                                 ejempl nãºmer consult extern especial cad mil derechohabient sp cad mil derechohabient imss issste respect si bien diferent pued reflej neces desigual liger mayor issste pued justific maner nãºmer recet pud ser surt total deb falt existent dentr sp dentr imss segãºn dat encuest aunqu propi cifr institut ss sugier tas altas recet surt ambas cifr encuentr altas ocde gast bolsill reduc signific ultim dec pes esfuerz logr cobertur sanitari universal traves reform sp  \n",
              "1                                                                                                                                                                                                                                                                                                                                                                                                               gobiern central financ direct sol gast total salud realiz transferent especif gast salud ascend gast total mayor part gast presupuestari salud realiz gobi cond cond pobr sol pued ofrec baj nivel atencion poblacion local gobiern provincial proporcion subsidi lad ofert hospital  \n",
              "2  clar factor jueg particul varied barrer determin social pued relacion gener clas etni cast idiom religion surg estructur norm proces social arraig acept inclus foment distribu injust riquez recurs social ejempl person viv vih enfermedad cronic enfrent altos nivel estigm discrimin dificult acces prueb medic tratamient atencion apoy gobi busc mejor estandar salud querran mejor condicion muj brind servici salud reproduct efect implement program integral lactanci matern line recomend actual aument presion comunitari abort select sex person pobr carec educ inform fond opcion salud vulner impact ent ric probabl muer direct indirect ent impact gran alcanc progres haci odm  "
            ],
            "text/html": [
              "\n",
              "  <div id=\"df-67b8b407-09f9-40a1-b44c-c35ca642b102\" class=\"colab-df-container\">\n",
              "    <div>\n",
              "<style scoped>\n",
              "    .dataframe tbody tr th:only-of-type {\n",
              "        vertical-align: middle;\n",
              "    }\n",
              "\n",
              "    .dataframe tbody tr th {\n",
              "        vertical-align: top;\n",
              "    }\n",
              "\n",
              "    .dataframe thead th {\n",
              "        text-align: right;\n",
              "    }\n",
              "</style>\n",
              "<table border=\"1\" class=\"dataframe\">\n",
              "  <thead>\n",
              "    <tr style=\"text-align: right;\">\n",
              "      <th></th>\n",
              "      <th>Textos_espanol</th>\n",
              "      <th>sdg</th>\n",
              "      <th>Textos_limpio</th>\n",
              "    </tr>\n",
              "  </thead>\n",
              "  <tbody>\n",
              "    <tr>\n",
              "      <th>0</th>\n",
              "      <td>Por ejemplo, el nÃºmero de consultas externas de especialistas es de 319 por cada mil derechohabientes en el SP, en comparaciÃ³n con 338 y 620 por cada mil derechohabientes en el IMSS y el ISSSTE, respectivamente. Si bien algunas de estas diferencias pueden reflejar una necesidad desigual (como la poblaciÃ³n ligeramente mayor del ISSSTE), otras no pueden justificarse de esta manera. El nÃºmero de recetas que no pudieron ser surtidas en su totalidad por un farmacÃ©utico debido a la falta de existencias es de 33% dentro del SP en comparaciÃ³n con 14% dentro del IMSS segÃºn los datos de la encuesta (aunque las propias cifras de los institutos de la SS sugieren tasas mÃ¡s altas de recetas surtidas). Ambas cifras se encuentran entre las mÃ¡s altas de la OCDE. El gasto de bolsillo no se ha reducido significativamente en la última década, a pesar de los esfuerzos para lograr la cobertura sanitaria universal a través de la reforma del SP.</td>\n",
              "      <td>3</td>\n",
              "      <td>ejempl nãºmer consult extern especial cad mil derechohabient sp cad mil derechohabient imss issste respect si bien diferent pued reflej neces desigual liger mayor issste pued justific maner nãºmer recet pud ser surt total deb falt existent dentr sp dentr imss segãºn dat encuest aunqu propi cifr institut ss sugier tas altas recet surt ambas cifr encuentr altas ocde gast bolsill reduc signific ultim dec pes esfuerz logr cobertur sanitari universal traves reform sp</td>\n",
              "    </tr>\n",
              "    <tr>\n",
              "      <th>1</th>\n",
              "      <td>En 2007, el gobierno central financió directamente solo el 0,3% del gasto total en salud, pero realizó transferencias específicas para el gasto en salud que ascendieron a otro 5,6% del gasto total. La mayor parte del gasto presupuestario en salud lo realizan los gobiernos de los condados. Por lo tanto, los condados pobres solo pueden ofrecer un bajo nivel de atención a la población local. El gobierno provincial proporciona subsidios del lado de la oferta a los hospitales.</td>\n",
              "      <td>3</td>\n",
              "      <td>gobiern central financ direct sol gast total salud realiz transferent especif gast salud ascend gast total mayor part gast presupuestari salud realiz gobi cond cond pobr sol pued ofrec baj nivel atencion poblacion local gobiern provincial proporcion subsidi lad ofert hospital</td>\n",
              "    </tr>\n",
              "    <tr>\n",
              "      <th>2</th>\n",
              "      <td>Claramente, hay muchos otros factores en juego, en particular, una variedad de barreras y determinantes sociales. Estos pueden estar relacionados con el género, la clase, la etnia, la casta, el idioma y la religión, y surgen de estructuras, normas y procesos sociales arraigados que aceptan e incluso fomentan distribuciones injustas de la riqueza y los recursos sociales. Por ejemplo, las personas que viven con el VIH y algunas otras enfermedades crónicas enfrentan altos niveles de estigma y discriminación que dificultan su acceso a pruebas médicas, tratamiento, atención y apoyo. Por lo tanto, los gobiernos que buscan mejorar los estándares de salud querrán mejorar la condición de la mujer, brindar servicios de salud reproductiva efectivos, implementar programas integrales de lactancia materna en línea con las recomendaciones actuales y aumentar las presiones comunitarias contra el aborto selectivo por sexo. Las personas pobres, que carecen de educación e información, o de fondos para opciones más saludables, son más vulnerables al impacto de las ENT que los ricos y es probable que mueran antes. Directa e indirectamente, las ENT tendrán impactos de gran alcance en el progreso hacia los ODM.</td>\n",
              "      <td>3</td>\n",
              "      <td>clar factor jueg particul varied barrer determin social pued relacion gener clas etni cast idiom religion surg estructur norm proces social arraig acept inclus foment distribu injust riquez recurs social ejempl person viv vih enfermedad cronic enfrent altos nivel estigm discrimin dificult acces prueb medic tratamient atencion apoy gobi busc mejor estandar salud querran mejor condicion muj brind servici salud reproduct efect implement program integral lactanci matern line recomend actual aument presion comunitari abort select sex person pobr carec educ inform fond opcion salud vulner impact ent ric probabl muer direct indirect ent impact gran alcanc progres haci odm</td>\n",
              "    </tr>\n",
              "  </tbody>\n",
              "</table>\n",
              "</div>\n",
              "    <div class=\"colab-df-buttons\">\n",
              "\n",
              "  <div class=\"colab-df-container\">\n",
              "    <button class=\"colab-df-convert\" onclick=\"convertToInteractive('df-67b8b407-09f9-40a1-b44c-c35ca642b102')\"\n",
              "            title=\"Convert this dataframe to an interactive table.\"\n",
              "            style=\"display:none;\">\n",
              "\n",
              "  <svg xmlns=\"http://www.w3.org/2000/svg\" height=\"24px\" viewBox=\"0 -960 960 960\">\n",
              "    <path d=\"M120-120v-720h720v720H120Zm60-500h600v-160H180v160Zm220 220h160v-160H400v160Zm0 220h160v-160H400v160ZM180-400h160v-160H180v160Zm440 0h160v-160H620v160ZM180-180h160v-160H180v160Zm440 0h160v-160H620v160Z\"/>\n",
              "  </svg>\n",
              "    </button>\n",
              "\n",
              "  <style>\n",
              "    .colab-df-container {\n",
              "      display:flex;\n",
              "      gap: 12px;\n",
              "    }\n",
              "\n",
              "    .colab-df-convert {\n",
              "      background-color: #E8F0FE;\n",
              "      border: none;\n",
              "      border-radius: 50%;\n",
              "      cursor: pointer;\n",
              "      display: none;\n",
              "      fill: #1967D2;\n",
              "      height: 32px;\n",
              "      padding: 0 0 0 0;\n",
              "      width: 32px;\n",
              "    }\n",
              "\n",
              "    .colab-df-convert:hover {\n",
              "      background-color: #E2EBFA;\n",
              "      box-shadow: 0px 1px 2px rgba(60, 64, 67, 0.3), 0px 1px 3px 1px rgba(60, 64, 67, 0.15);\n",
              "      fill: #174EA6;\n",
              "    }\n",
              "\n",
              "    .colab-df-buttons div {\n",
              "      margin-bottom: 4px;\n",
              "    }\n",
              "\n",
              "    [theme=dark] .colab-df-convert {\n",
              "      background-color: #3B4455;\n",
              "      fill: #D2E3FC;\n",
              "    }\n",
              "\n",
              "    [theme=dark] .colab-df-convert:hover {\n",
              "      background-color: #434B5C;\n",
              "      box-shadow: 0px 1px 3px 1px rgba(0, 0, 0, 0.15);\n",
              "      filter: drop-shadow(0px 1px 2px rgba(0, 0, 0, 0.3));\n",
              "      fill: #FFFFFF;\n",
              "    }\n",
              "  </style>\n",
              "\n",
              "    <script>\n",
              "      const buttonEl =\n",
              "        document.querySelector('#df-67b8b407-09f9-40a1-b44c-c35ca642b102 button.colab-df-convert');\n",
              "      buttonEl.style.display =\n",
              "        google.colab.kernel.accessAllowed ? 'block' : 'none';\n",
              "\n",
              "      async function convertToInteractive(key) {\n",
              "        const element = document.querySelector('#df-67b8b407-09f9-40a1-b44c-c35ca642b102');\n",
              "        const dataTable =\n",
              "          await google.colab.kernel.invokeFunction('convertToInteractive',\n",
              "                                                    [key], {});\n",
              "        if (!dataTable) return;\n",
              "\n",
              "        const docLinkHtml = 'Like what you see? Visit the ' +\n",
              "          '<a target=\"_blank\" href=https://colab.research.google.com/notebooks/data_table.ipynb>data table notebook</a>'\n",
              "          + ' to learn more about interactive tables.';\n",
              "        element.innerHTML = '';\n",
              "        dataTable['output_type'] = 'display_data';\n",
              "        await google.colab.output.renderOutput(dataTable, element);\n",
              "        const docLink = document.createElement('div');\n",
              "        docLink.innerHTML = docLinkHtml;\n",
              "        element.appendChild(docLink);\n",
              "      }\n",
              "    </script>\n",
              "  </div>\n",
              "\n",
              "\n",
              "<div id=\"df-f7136676-bd4b-40da-8856-64acb842ac1e\">\n",
              "  <button class=\"colab-df-quickchart\" onclick=\"quickchart('df-f7136676-bd4b-40da-8856-64acb842ac1e')\"\n",
              "            title=\"Suggest charts\"\n",
              "            style=\"display:none;\">\n",
              "\n",
              "<svg xmlns=\"http://www.w3.org/2000/svg\" height=\"24px\"viewBox=\"0 0 24 24\"\n",
              "     width=\"24px\">\n",
              "    <g>\n",
              "        <path d=\"M19 3H5c-1.1 0-2 .9-2 2v14c0 1.1.9 2 2 2h14c1.1 0 2-.9 2-2V5c0-1.1-.9-2-2-2zM9 17H7v-7h2v7zm4 0h-2V7h2v10zm4 0h-2v-4h2v4z\"/>\n",
              "    </g>\n",
              "</svg>\n",
              "  </button>\n",
              "\n",
              "<style>\n",
              "  .colab-df-quickchart {\n",
              "      --bg-color: #E8F0FE;\n",
              "      --fill-color: #1967D2;\n",
              "      --hover-bg-color: #E2EBFA;\n",
              "      --hover-fill-color: #174EA6;\n",
              "      --disabled-fill-color: #AAA;\n",
              "      --disabled-bg-color: #DDD;\n",
              "  }\n",
              "\n",
              "  [theme=dark] .colab-df-quickchart {\n",
              "      --bg-color: #3B4455;\n",
              "      --fill-color: #D2E3FC;\n",
              "      --hover-bg-color: #434B5C;\n",
              "      --hover-fill-color: #FFFFFF;\n",
              "      --disabled-bg-color: #3B4455;\n",
              "      --disabled-fill-color: #666;\n",
              "  }\n",
              "\n",
              "  .colab-df-quickchart {\n",
              "    background-color: var(--bg-color);\n",
              "    border: none;\n",
              "    border-radius: 50%;\n",
              "    cursor: pointer;\n",
              "    display: none;\n",
              "    fill: var(--fill-color);\n",
              "    height: 32px;\n",
              "    padding: 0;\n",
              "    width: 32px;\n",
              "  }\n",
              "\n",
              "  .colab-df-quickchart:hover {\n",
              "    background-color: var(--hover-bg-color);\n",
              "    box-shadow: 0 1px 2px rgba(60, 64, 67, 0.3), 0 1px 3px 1px rgba(60, 64, 67, 0.15);\n",
              "    fill: var(--button-hover-fill-color);\n",
              "  }\n",
              "\n",
              "  .colab-df-quickchart-complete:disabled,\n",
              "  .colab-df-quickchart-complete:disabled:hover {\n",
              "    background-color: var(--disabled-bg-color);\n",
              "    fill: var(--disabled-fill-color);\n",
              "    box-shadow: none;\n",
              "  }\n",
              "\n",
              "  .colab-df-spinner {\n",
              "    border: 2px solid var(--fill-color);\n",
              "    border-color: transparent;\n",
              "    border-bottom-color: var(--fill-color);\n",
              "    animation:\n",
              "      spin 1s steps(1) infinite;\n",
              "  }\n",
              "\n",
              "  @keyframes spin {\n",
              "    0% {\n",
              "      border-color: transparent;\n",
              "      border-bottom-color: var(--fill-color);\n",
              "      border-left-color: var(--fill-color);\n",
              "    }\n",
              "    20% {\n",
              "      border-color: transparent;\n",
              "      border-left-color: var(--fill-color);\n",
              "      border-top-color: var(--fill-color);\n",
              "    }\n",
              "    30% {\n",
              "      border-color: transparent;\n",
              "      border-left-color: var(--fill-color);\n",
              "      border-top-color: var(--fill-color);\n",
              "      border-right-color: var(--fill-color);\n",
              "    }\n",
              "    40% {\n",
              "      border-color: transparent;\n",
              "      border-right-color: var(--fill-color);\n",
              "      border-top-color: var(--fill-color);\n",
              "    }\n",
              "    60% {\n",
              "      border-color: transparent;\n",
              "      border-right-color: var(--fill-color);\n",
              "    }\n",
              "    80% {\n",
              "      border-color: transparent;\n",
              "      border-right-color: var(--fill-color);\n",
              "      border-bottom-color: var(--fill-color);\n",
              "    }\n",
              "    90% {\n",
              "      border-color: transparent;\n",
              "      border-bottom-color: var(--fill-color);\n",
              "    }\n",
              "  }\n",
              "</style>\n",
              "\n",
              "  <script>\n",
              "    async function quickchart(key) {\n",
              "      const quickchartButtonEl =\n",
              "        document.querySelector('#' + key + ' button');\n",
              "      quickchartButtonEl.disabled = true;  // To prevent multiple clicks.\n",
              "      quickchartButtonEl.classList.add('colab-df-spinner');\n",
              "      try {\n",
              "        const charts = await google.colab.kernel.invokeFunction(\n",
              "            'suggestCharts', [key], {});\n",
              "      } catch (error) {\n",
              "        console.error('Error during call to suggestCharts:', error);\n",
              "      }\n",
              "      quickchartButtonEl.classList.remove('colab-df-spinner');\n",
              "      quickchartButtonEl.classList.add('colab-df-quickchart-complete');\n",
              "    }\n",
              "    (() => {\n",
              "      let quickchartButtonEl =\n",
              "        document.querySelector('#df-f7136676-bd4b-40da-8856-64acb842ac1e button');\n",
              "      quickchartButtonEl.style.display =\n",
              "        google.colab.kernel.accessAllowed ? 'block' : 'none';\n",
              "    })();\n",
              "  </script>\n",
              "</div>\n",
              "\n",
              "    </div>\n",
              "  </div>\n"
            ],
            "application/vnd.google.colaboratory.intrinsic+json": {
              "type": "dataframe",
              "variable_name": "data",
              "summary": "{\n  \"name\": \"data\",\n  \"rows\": 4049,\n  \"fields\": [\n    {\n      \"column\": \"Textos_espanol\",\n      \"properties\": {\n        \"dtype\": \"string\",\n        \"num_unique_values\": 4049,\n        \"samples\": [\n          \"Los directores de escuela reclutados bajo el nuevo proceso de contrataci\\u00f3n pueden nombrar y despedir a los miembros de su equipo de liderazgo escolar y proponer el despido de hasta el 5% de los docentes de su escuela que hayan sido mal evaluados en el sistema nacional de evaluaci\\u00f3n de docentes. Al mismo tiempo, este nuevo marco ha establecido un mayor grado de responsabilidad para los directores de escuela. Seg\\u00fan el nuevo proceso de contrataci\\u00f3n, todos los directores de escuela son nombrados por un per\\u00edodo de cinco a\\u00f1os, despu\\u00e9s de lo cual deben volver a presentar una solicitud. Esto brinda la oportunidad de reevaluar peri\\u00f3dicamente, reconocer y reconocer a los directores que se desempe\\u00f1an bien y proporcionar incentivos para el desarrollo y la mejora continuos.\",\n          \"En su segunda fase integr\\u00f3 una historia cl\\u00ednica personal (con diagn\\u00f3sticos y tratamientos), con el sistema nacional de citas, para la atenci\\u00f3n electiva programada. Es importante destacar que la EDUS tambi\\u00e9n contiene un registro \\\"familiar\\\" de cada persona, en el que se registran sistem\\u00e1ticamente los factores determinantes de la salud y el bienestar, como otros miembros de la familia con enfermedades complejas y cualquier dificultad econ\\u00f3mica o de vivienda. Esto permite una evaluaci\\u00f3n m\\u00e1s completa de las necesidades individuales, as\\u00ed como elaborar perfiles sanitarios de la poblaci\\u00f3n local y predecir sus necesidades. En el futuro, la EDUS se vincular\\u00e1 a las im\\u00e1genes digitales, los registros de laboratorio, los registros de farmacia y las notas cl\\u00ednicas de los pacientes hospitalizados (tanto de enfermer\\u00eda como m\\u00e9dicas).\",\n          \"Como prioridad, se deben tomar medidas para garantizar que la capacidad de pago no sea un factor para acceder a la atenci\\u00f3n m\\u00e9dica. En particular, se deben investigar las razones que subyacen a la baja aceptaci\\u00f3n de las pruebas de detecci\\u00f3n del c\\u00e1ncer de mama y de cuello uterino. Comprender la variaci\\u00f3n a nivel de proveedor ser\\u00e1 fundamental para abordar las bajas tasas de supervivencia de Letonia despu\\u00e9s de un ataque al coraz\\u00f3n o un accidente cerebrovascular, por ejemplo.\"\n        ],\n        \"semantic_type\": \"\",\n        \"description\": \"\"\n      }\n    },\n    {\n      \"column\": \"sdg\",\n      \"properties\": {\n        \"dtype\": \"number\",\n        \"std\": 0,\n        \"min\": 3,\n        \"max\": 5,\n        \"num_unique_values\": 3,\n        \"samples\": [\n          3,\n          4,\n          5\n        ],\n        \"semantic_type\": \"\",\n        \"description\": \"\"\n      }\n    },\n    {\n      \"column\": \"Textos_limpio\",\n      \"properties\": {\n        \"dtype\": \"string\",\n        \"num_unique_values\": 4049,\n        \"samples\": [\n          \"director escuel reclut baj nuev proces contrat pued nombr desped miembr equip liderazg escol propon desp docent escuel sid mal evalu sistem nacional evalu docent mism tiemp nuev marc establec mayor grad respons director escuel segun nuev proces contrat director escuel nombr period cinc a\\u00f1os despues deb volv present solicitud brind oportun reevalu period reconoc reconoc director desempe\\u00f1 bien proporcion incent desarroll mejor continu\",\n          \"segund fas integr histori clinic personal diagnost tratamient sistem nacional cit atencion elect program import destac edus contien registr famili cad person registr sistemat factor determin salud bienest miembr famili enfermedad complej cualqui dificult econom viviend permit evalu complet neces individual asi elabor perfil sanitari poblacion local predec neces futur edus vincul imagen digital registr laboratori registr farmaci not clinic pacient hospitaliz enferm medic\",\n          \"priorid deb tom med garantiz capac pag factor acced atencion medic particul deb investig razon subyac baj acept prueb deteccion canc mam cuell uterin comprend variacion nivel proveedor fundamental abord baj tas supervivent letoni despues ataqu corazon accident cerebrovascul ejempl\"\n        ],\n        \"semantic_type\": \"\",\n        \"description\": \"\"\n      }\n    }\n  ]\n}"
            }
          },
          "metadata": {},
          "execution_count": 24
        }
      ],
      "source": [
        "#Configurar NLTK Stopwords\n",
        "stop_words = set(stopwords.words('spanish'))\n",
        "stemmer = SnowballStemmer('spanish')\n",
        "\n",
        "def limpiar_texto(texto):\n",
        "  #Convertir el texto en minúsculas\n",
        "  texto = texto.lower()\n",
        "  #Tokenizar el texto\n",
        "  tokens = word_tokenize(texto, language = 'spanish')\n",
        "  #Eliminar stopwords y palabras no alfabéticas, y aplicar stemming\n",
        "  palabras_limpias = [stemmer.stem(palabra) for palabra in tokens if palabra.isalpha() and palabra not in stop_words]\n",
        "  #Unir de nuevo las palabras en una cadena\n",
        "  texto_limpio = ' '.join(palabras_limpias)\n",
        "  return texto_limpio\n",
        "\n",
        "#Aplicar la función de limpieza a la columna de opiniones\n",
        "data['Textos_limpio'] = data['Textos_espanol'].apply(limpiar_texto)\n",
        "#test_data['Textos_limpio'] = test_data['Textos_espanol'].apply(limpiar_texto)\n",
        "\n",
        "data.head(3)\n",
        "\n"
      ]
    },
    {
      "cell_type": "markdown",
      "metadata": {
        "id": "OYn_ua_0krAa"
      },
      "source": [
        "Ahora bien, los modelos de machine learning trabajan con datos numéricos y no con texto crudo. En este sentido, es necesario convertir las frases en un formato numérico.\n",
        "\n",
        "Este proceso conocido como vectorización se realizará mediante la técnica TF-IDF. Lo anterior, es una medida numérica que expresa cuán relevante es una palabra para un documento en una colección. Este método pondera las palabras, dando menos importancia a las que aparecen frecuentemente en el conjunto de datos y más a las que son únicas en los documentos individuales.\n",
        "\n"
      ]
    },
    {
      "cell_type": "code",
      "execution_count": null,
      "metadata": {
        "id": "gaX6BcNmwRgj"
      },
      "outputs": [],
      "source": [
        "#Crear una instancia de TfidfVectorizer\n",
        "tfidf_vectorizer = TfidfVectorizer()\n",
        "\n",
        "#Ajustar el modelo al texto limpio y transformarlo en una matriz de características\n",
        "tfidf_matrix = tfidf_vectorizer.fit_transform(data['Textos_limpio'])"
      ]
    },
    {
      "cell_type": "markdown",
      "metadata": {
        "id": "U7x1l2-mwnss"
      },
      "source": [
        "tfidf_matrix es una matriz que contienen los valores TF-IDF de cada palabra."
      ]
    },
    {
      "cell_type": "markdown",
      "metadata": {
        "id": "QHW9KXQNgOur"
      },
      "source": [
        "#**Modelado y evaluación**\n",
        "\n",
        "A continuación, se aplican tres algoritmos de clasificación diferentes para predecir y relacionar de forma automática la categoría ODS a la que pertenece una opinión basándose en sus características.\n",
        "\n",
        "La clasificación es ideal para estos casos porque se centra en asignar categorías (ODS) a partir de los datos de entrada, utilizando algoritmos que pueden aprender de los datos etiquetados para hacer predicciones sobre datos no etiquetados.\n",
        "\n",
        "En primera instancia, se dividirá el conjunto de datos en un conjunto de entreamiento y otro de prueba. Lo anterior, es esencial para evaluar la capacidad del modelo para generalizar nuevos datos que no conoce durante el entrenamiento."
      ]
    },
    {
      "cell_type": "code",
      "execution_count": null,
      "metadata": {
        "id": "9VT9DthLWIG5"
      },
      "outputs": [],
      "source": [
        "X_train, X_test, y_train, y_test = train_test_split(tfidf_matrix, data['sdg'],test_size=0.2,random_state=42)"
      ]
    },
    {
      "cell_type": "markdown",
      "metadata": {
        "id": "rTm_25KsghS2"
      },
      "source": [
        "##Árboles de decisión\n",
        "\n",
        "**Realizado por Daniela Castrillón**\n",
        "\n",
        "Teniendo en cuenta el enunciado y los objetivos del Fondo de Poblaciones de las Naciones Unidas en analizar las opiniones de los ciudadanos, un modelo basado en árboles de decisión podría ser una muy buena opción por distintas razones.\n",
        "\n",
        "**Interpretabilidad**\n",
        "\n",
        "Los árboles de decisión son fáciles de entender y visualizar, lo que puede ser crucial cuando se necesita explicar las decisiones del modelo a personas no técnicas.\n",
        "\n",
        "**Manejo de datos no lineales**\n",
        "\n",
        "Los árboles de decisión pueden modelar relaciones no lineales entre las caracterísrticas sin necesidad de transformaciones o procesamientos de datos complejos, lo cual es adecuado para datos de texto donde la relación entre palabras y significados puede ser altamente no lineal.\n",
        "\n",
        "**Capacidad para manejar datos numéricos y categóricos**\n",
        "\n",
        "Los árboles de decisión maneja correctamente tanto las características numéricas como las categóricas.\n",
        "\n",
        "**Utilidad en la selección de características**\n",
        "\n",
        "Los árboles de decisión ayudan en la identificación de las características más significativas para la clasificación. Esto puede ser relevante para entender qué palabras o frases son más influyentes al relacionar las opiniones con los ODS específicos, siendo el objetivo clave del proyecto."
      ]
    },
    {
      "cell_type": "code",
      "execution_count": null,
      "metadata": {
        "id": "eeTHKAaLzJkQ",
        "colab": {
          "base_uri": "https://localhost:8080/",
          "height": 75
        },
        "outputId": "1fec5370-b215-4412-a225-ed8e8929048d"
      },
      "outputs": [
        {
          "output_type": "execute_result",
          "data": {
            "text/plain": [
              "DecisionTreeClassifier(random_state=42)"
            ],
            "text/html": [
              "<style>#sk-container-id-1 {color: black;}#sk-container-id-1 pre{padding: 0;}#sk-container-id-1 div.sk-toggleable {background-color: white;}#sk-container-id-1 label.sk-toggleable__label {cursor: pointer;display: block;width: 100%;margin-bottom: 0;padding: 0.3em;box-sizing: border-box;text-align: center;}#sk-container-id-1 label.sk-toggleable__label-arrow:before {content: \"▸\";float: left;margin-right: 0.25em;color: #696969;}#sk-container-id-1 label.sk-toggleable__label-arrow:hover:before {color: black;}#sk-container-id-1 div.sk-estimator:hover label.sk-toggleable__label-arrow:before {color: black;}#sk-container-id-1 div.sk-toggleable__content {max-height: 0;max-width: 0;overflow: hidden;text-align: left;background-color: #f0f8ff;}#sk-container-id-1 div.sk-toggleable__content pre {margin: 0.2em;color: black;border-radius: 0.25em;background-color: #f0f8ff;}#sk-container-id-1 input.sk-toggleable__control:checked~div.sk-toggleable__content {max-height: 200px;max-width: 100%;overflow: auto;}#sk-container-id-1 input.sk-toggleable__control:checked~label.sk-toggleable__label-arrow:before {content: \"▾\";}#sk-container-id-1 div.sk-estimator input.sk-toggleable__control:checked~label.sk-toggleable__label {background-color: #d4ebff;}#sk-container-id-1 div.sk-label input.sk-toggleable__control:checked~label.sk-toggleable__label {background-color: #d4ebff;}#sk-container-id-1 input.sk-hidden--visually {border: 0;clip: rect(1px 1px 1px 1px);clip: rect(1px, 1px, 1px, 1px);height: 1px;margin: -1px;overflow: hidden;padding: 0;position: absolute;width: 1px;}#sk-container-id-1 div.sk-estimator {font-family: monospace;background-color: #f0f8ff;border: 1px dotted black;border-radius: 0.25em;box-sizing: border-box;margin-bottom: 0.5em;}#sk-container-id-1 div.sk-estimator:hover {background-color: #d4ebff;}#sk-container-id-1 div.sk-parallel-item::after {content: \"\";width: 100%;border-bottom: 1px solid gray;flex-grow: 1;}#sk-container-id-1 div.sk-label:hover label.sk-toggleable__label {background-color: #d4ebff;}#sk-container-id-1 div.sk-serial::before {content: \"\";position: absolute;border-left: 1px solid gray;box-sizing: border-box;top: 0;bottom: 0;left: 50%;z-index: 0;}#sk-container-id-1 div.sk-serial {display: flex;flex-direction: column;align-items: center;background-color: white;padding-right: 0.2em;padding-left: 0.2em;position: relative;}#sk-container-id-1 div.sk-item {position: relative;z-index: 1;}#sk-container-id-1 div.sk-parallel {display: flex;align-items: stretch;justify-content: center;background-color: white;position: relative;}#sk-container-id-1 div.sk-item::before, #sk-container-id-1 div.sk-parallel-item::before {content: \"\";position: absolute;border-left: 1px solid gray;box-sizing: border-box;top: 0;bottom: 0;left: 50%;z-index: -1;}#sk-container-id-1 div.sk-parallel-item {display: flex;flex-direction: column;z-index: 1;position: relative;background-color: white;}#sk-container-id-1 div.sk-parallel-item:first-child::after {align-self: flex-end;width: 50%;}#sk-container-id-1 div.sk-parallel-item:last-child::after {align-self: flex-start;width: 50%;}#sk-container-id-1 div.sk-parallel-item:only-child::after {width: 0;}#sk-container-id-1 div.sk-dashed-wrapped {border: 1px dashed gray;margin: 0 0.4em 0.5em 0.4em;box-sizing: border-box;padding-bottom: 0.4em;background-color: white;}#sk-container-id-1 div.sk-label label {font-family: monospace;font-weight: bold;display: inline-block;line-height: 1.2em;}#sk-container-id-1 div.sk-label-container {text-align: center;}#sk-container-id-1 div.sk-container {/* jupyter's `normalize.less` sets `[hidden] { display: none; }` but bootstrap.min.css set `[hidden] { display: none !important; }` so we also need the `!important` here to be able to override the default hidden behavior on the sphinx rendered scikit-learn.org. See: https://github.com/scikit-learn/scikit-learn/issues/21755 */display: inline-block !important;position: relative;}#sk-container-id-1 div.sk-text-repr-fallback {display: none;}</style><div id=\"sk-container-id-1\" class=\"sk-top-container\"><div class=\"sk-text-repr-fallback\"><pre>DecisionTreeClassifier(random_state=42)</pre><b>In a Jupyter environment, please rerun this cell to show the HTML representation or trust the notebook. <br />On GitHub, the HTML representation is unable to render, please try loading this page with nbviewer.org.</b></div><div class=\"sk-container\" hidden><div class=\"sk-item\"><div class=\"sk-estimator sk-toggleable\"><input class=\"sk-toggleable__control sk-hidden--visually\" id=\"sk-estimator-id-1\" type=\"checkbox\" checked><label for=\"sk-estimator-id-1\" class=\"sk-toggleable__label sk-toggleable__label-arrow\">DecisionTreeClassifier</label><div class=\"sk-toggleable__content\"><pre>DecisionTreeClassifier(random_state=42)</pre></div></div></div></div></div>"
            ]
          },
          "metadata": {},
          "execution_count": 27
        }
      ],
      "source": [
        "#Inicializar el modelo de árbol de decisión\n",
        "dt_model = DecisionTreeClassifier(random_state=42)\n",
        "\n",
        "#Entrenar el modelo\n",
        "dt_model.fit(X_train, y_train)"
      ]
    },
    {
      "cell_type": "markdown",
      "metadata": {
        "id": "B9EIxlLyMzas"
      },
      "source": [
        "Se creó una instancia de DecisionTreeClassifier junto con la reproducibilidad de los resultados, con el fin de asegurar que el modelo construya el árbol de decisión de la misma manera cada vez que se ejecute el código.\n",
        "\n",
        "Luego, se entrena el modelo para que el algoritmo decida de manera iterativa qué características (variables) aportan la mayor cantidad de información para dividir los datos en grupos homogéneos.\n",
        "\n",
        "Durante el entrenamiento, el modelo realiza los siguientes pasos:\n",
        "\n",
        "* Selecciona la mejor característica para dividir el conjunto de entrenamiento en subconjuntos con respecto a la etiqueta objetivo.\n",
        "\n",
        "* Una vez seleccionada la mejor característica, se crea de un nodo que divide el conjunto de datos según los valores de dicha característica.\n",
        "\n",
        "* El proceso se repite recursivamente para cada subconjunto resultante hasta que cumpla con ciertos criterios de parada.\n"
      ]
    },
    {
      "cell_type": "code",
      "execution_count": null,
      "metadata": {
        "id": "cp9vgmcczw0k"
      },
      "outputs": [],
      "source": [
        "#Evaluar el modelo\n",
        "y_pred = dt_model.predict(X_test)"
      ]
    },
    {
      "cell_type": "markdown",
      "metadata": {
        "id": "7ixmHjxVPBLM"
      },
      "source": [
        "Después de entrenar, se evaluó el modelo utilizando el conjunto de prueba para ver que tan bien generaliza los nuevos datos.\n",
        "\n",
        "Finalmente, se presentan las métricas de evaluación del modelo para medir el desempeño y rendimiento del mismo."
      ]
    },
    {
      "cell_type": "code",
      "execution_count": null,
      "metadata": {
        "id": "TOlROPx9z14o",
        "colab": {
          "base_uri": "https://localhost:8080/"
        },
        "outputId": "17950adc-5978-4cc0-d503-bfcf2f9a1d4d"
      },
      "outputs": [
        {
          "output_type": "stream",
          "name": "stdout",
          "text": [
            "Accuracy: 0.9135802469135802\n",
            "\n",
            "Matriz de Confusión\n",
            " [[228  11  11]\n",
            " [ 11 246  11]\n",
            " [ 13  13 266]]\n",
            "\n",
            "Reporte de Clasificación\n",
            "               precision    recall  f1-score   support\n",
            "\n",
            "           3       0.90      0.91      0.91       250\n",
            "           4       0.91      0.92      0.91       268\n",
            "           5       0.92      0.91      0.92       292\n",
            "\n",
            "    accuracy                           0.91       810\n",
            "   macro avg       0.91      0.91      0.91       810\n",
            "weighted avg       0.91      0.91      0.91       810\n",
            "\n"
          ]
        }
      ],
      "source": [
        "#Calcular y mostrar las métricas de rendimiento\n",
        "print(\"Accuracy:\", accuracy_score(y_test, y_pred))\n",
        "print(\"\\nMatriz de Confusión\\n\", confusion_matrix(y_test, y_pred))\n",
        "print(\"\\nReporte de Clasificación\\n\", classification_report(y_test, y_pred))"
      ]
    },
    {
      "cell_type": "markdown",
      "metadata": {
        "id": "RhXVaWxTQdaB"
      },
      "source": [
        "Como se evidencia anteriormente, el árbol de decisión está realizando un trabajo notablemente bueno al clasificar los ODS basados en los datos de texto.\n",
        "\n",
        "**Accuracy**\n",
        "\n",
        "Esta métrica nos indica que el 91.36% de las veces, el modelo hizo la predicción correctamente, siendo una buena tasa de acierto.\n",
        "\n",
        "**Matriz de Confusión**\n",
        "\n",
        "La matriz de confusión muestra cómo se distribuye las predicciones en comparación con las etiquetes verdaderas. Cada fila de la matriz representa las instancias en una clase reeal, mientras que cada columna representa las instanciase en una clase predicha.\n",
        "\n",
        "* De las 250 instancias del ODS 3, el modelo predijo 228 instancias del ODS 3, pero confundió 11 con ODS 4 y 5.\n",
        "\n",
        "* De las 268 instancias del ODS 4, el modelo predijo 246 instancias del ODS 4, pero confundió 11 con ODS 3 y 5.\n",
        "\n",
        "* De las 292 instancias del ODS 5, el modelo predijo 266 instancias del ODS 5, pero confundió 13 con ODS 3 y 4.\n",
        "\n",
        "**Reporte de Clasificación**\n",
        "\n",
        "Finalmente, el reporte de clasificación indica la precisión, recall y F1-score del modelo.\n",
        "\n",
        "* La precisión indica la capacidad del clasificador de no etiquetar como positivo un ejemplo que es negativo. Para el caso de la ODS 3, es correcto el 90% de las veces; para la ODS 4, es correcto el 91% de las veces y; para la ODS 5, es correcto el 92% de las veces.\n",
        "\n",
        "* El recall indica la capacidad del modelo de encontrar todos los ejemeplos positivos. Para el caso de la ODS 3 y 5 reales, el modelo los encontró el 91% de las veces; para el caso de la ODS 4 reales, el modeo los encontró el 92% de las veces.\n",
        "\n",
        "* El F1-score es el promedio de la precisión y el recall. Un F1 alto indica un equilibrio entre precisión y recall. Para el caso de la ODS 3 y 4, se obtuvo 91%; para la ODS 5, se obtuvo 92%.\n",
        "\n",
        "En conclusión, el modelo muestra un buen ajuste y realiza predicciones precisas y confiables."
      ]
    },
    {
      "cell_type": "markdown",
      "metadata": {
        "id": "kmHkZSSRyJWk"
      },
      "source": [
        "##Support Vector Machines (SVM)\n",
        "\n",
        "**Realizado por Juan Ramírez**\n",
        "\n",
        "Dado el objetivo analizar las opiniones de los ciudadanos, un modelo usando el algoritmo Support Vector Machines (SVM) es una opción robusta para clasificar los comentarios en diferentes categorías relacionadas con los Objetivos de Desarrollo Sostenible (ODS).\n",
        "\n",
        "**Capacidad para manejar datos de alta dimensionalidad**\n",
        "\n",
        "SVM es muy eficaz cuando se trata de conjuntos de datos con muchas características, como es el caso de los datos de texto después de la vectorización. Esto lo hace adecuado para la tarea en cuestión, donde cada palabra puede considerarse como una característica.\n",
        "\n",
        "**Margen máximo y generalización**\n",
        "\n",
        "El objetivo principal de SVM es encontrar el hiperplano que maximiza el margen entre las clases. Esto tiende a proporcionar una buena capacidad de generalización, lo que es esencial para predecir correctamente en datos no vistos."
      ]
    },
    {
      "cell_type": "code",
      "execution_count": null,
      "metadata": {
        "id": "kEaSdhHUyOYO"
      },
      "outputs": [],
      "source": [
        "#Inicializar el modelo\n",
        "svm_model = SVC(kernel='linear', probability=True, random_state=42)"
      ]
    },
    {
      "cell_type": "code",
      "execution_count": null,
      "metadata": {
        "id": "sRoeiVcKyVJ0",
        "colab": {
          "base_uri": "https://localhost:8080/",
          "height": 75
        },
        "outputId": "a140e126-5fb7-4327-fece-180de975ed76"
      },
      "outputs": [
        {
          "output_type": "execute_result",
          "data": {
            "text/plain": [
              "SVC(kernel='linear', probability=True, random_state=42)"
            ],
            "text/html": [
              "<style>#sk-container-id-2 {color: black;}#sk-container-id-2 pre{padding: 0;}#sk-container-id-2 div.sk-toggleable {background-color: white;}#sk-container-id-2 label.sk-toggleable__label {cursor: pointer;display: block;width: 100%;margin-bottom: 0;padding: 0.3em;box-sizing: border-box;text-align: center;}#sk-container-id-2 label.sk-toggleable__label-arrow:before {content: \"▸\";float: left;margin-right: 0.25em;color: #696969;}#sk-container-id-2 label.sk-toggleable__label-arrow:hover:before {color: black;}#sk-container-id-2 div.sk-estimator:hover label.sk-toggleable__label-arrow:before {color: black;}#sk-container-id-2 div.sk-toggleable__content {max-height: 0;max-width: 0;overflow: hidden;text-align: left;background-color: #f0f8ff;}#sk-container-id-2 div.sk-toggleable__content pre {margin: 0.2em;color: black;border-radius: 0.25em;background-color: #f0f8ff;}#sk-container-id-2 input.sk-toggleable__control:checked~div.sk-toggleable__content {max-height: 200px;max-width: 100%;overflow: auto;}#sk-container-id-2 input.sk-toggleable__control:checked~label.sk-toggleable__label-arrow:before {content: \"▾\";}#sk-container-id-2 div.sk-estimator input.sk-toggleable__control:checked~label.sk-toggleable__label {background-color: #d4ebff;}#sk-container-id-2 div.sk-label input.sk-toggleable__control:checked~label.sk-toggleable__label {background-color: #d4ebff;}#sk-container-id-2 input.sk-hidden--visually {border: 0;clip: rect(1px 1px 1px 1px);clip: rect(1px, 1px, 1px, 1px);height: 1px;margin: -1px;overflow: hidden;padding: 0;position: absolute;width: 1px;}#sk-container-id-2 div.sk-estimator {font-family: monospace;background-color: #f0f8ff;border: 1px dotted black;border-radius: 0.25em;box-sizing: border-box;margin-bottom: 0.5em;}#sk-container-id-2 div.sk-estimator:hover {background-color: #d4ebff;}#sk-container-id-2 div.sk-parallel-item::after {content: \"\";width: 100%;border-bottom: 1px solid gray;flex-grow: 1;}#sk-container-id-2 div.sk-label:hover label.sk-toggleable__label {background-color: #d4ebff;}#sk-container-id-2 div.sk-serial::before {content: \"\";position: absolute;border-left: 1px solid gray;box-sizing: border-box;top: 0;bottom: 0;left: 50%;z-index: 0;}#sk-container-id-2 div.sk-serial {display: flex;flex-direction: column;align-items: center;background-color: white;padding-right: 0.2em;padding-left: 0.2em;position: relative;}#sk-container-id-2 div.sk-item {position: relative;z-index: 1;}#sk-container-id-2 div.sk-parallel {display: flex;align-items: stretch;justify-content: center;background-color: white;position: relative;}#sk-container-id-2 div.sk-item::before, #sk-container-id-2 div.sk-parallel-item::before {content: \"\";position: absolute;border-left: 1px solid gray;box-sizing: border-box;top: 0;bottom: 0;left: 50%;z-index: -1;}#sk-container-id-2 div.sk-parallel-item {display: flex;flex-direction: column;z-index: 1;position: relative;background-color: white;}#sk-container-id-2 div.sk-parallel-item:first-child::after {align-self: flex-end;width: 50%;}#sk-container-id-2 div.sk-parallel-item:last-child::after {align-self: flex-start;width: 50%;}#sk-container-id-2 div.sk-parallel-item:only-child::after {width: 0;}#sk-container-id-2 div.sk-dashed-wrapped {border: 1px dashed gray;margin: 0 0.4em 0.5em 0.4em;box-sizing: border-box;padding-bottom: 0.4em;background-color: white;}#sk-container-id-2 div.sk-label label {font-family: monospace;font-weight: bold;display: inline-block;line-height: 1.2em;}#sk-container-id-2 div.sk-label-container {text-align: center;}#sk-container-id-2 div.sk-container {/* jupyter's `normalize.less` sets `[hidden] { display: none; }` but bootstrap.min.css set `[hidden] { display: none !important; }` so we also need the `!important` here to be able to override the default hidden behavior on the sphinx rendered scikit-learn.org. See: https://github.com/scikit-learn/scikit-learn/issues/21755 */display: inline-block !important;position: relative;}#sk-container-id-2 div.sk-text-repr-fallback {display: none;}</style><div id=\"sk-container-id-2\" class=\"sk-top-container\"><div class=\"sk-text-repr-fallback\"><pre>SVC(kernel=&#x27;linear&#x27;, probability=True, random_state=42)</pre><b>In a Jupyter environment, please rerun this cell to show the HTML representation or trust the notebook. <br />On GitHub, the HTML representation is unable to render, please try loading this page with nbviewer.org.</b></div><div class=\"sk-container\" hidden><div class=\"sk-item\"><div class=\"sk-estimator sk-toggleable\"><input class=\"sk-toggleable__control sk-hidden--visually\" id=\"sk-estimator-id-2\" type=\"checkbox\" checked><label for=\"sk-estimator-id-2\" class=\"sk-toggleable__label sk-toggleable__label-arrow\">SVC</label><div class=\"sk-toggleable__content\"><pre>SVC(kernel=&#x27;linear&#x27;, probability=True, random_state=42)</pre></div></div></div></div></div>"
            ]
          },
          "metadata": {},
          "execution_count": 31
        }
      ],
      "source": [
        "#Entrenar el modelo\n",
        "svm_model.fit(X_train, y_train)"
      ]
    },
    {
      "cell_type": "markdown",
      "metadata": {
        "id": "jHwsiQIW0wUl"
      },
      "source": [
        "A continuación, se crea una instancia de SVC, que es una implementación del clasificador SVM en Scikit-learn.\n",
        "\n",
        "Durante el entrenamiento del modelo el algoritmo realiza varios pasos clave para encontrar el hiperplano óptimo que separa las categorías en los datos:\n",
        "\n",
        "* El algoritmo comienza con un hiperplano inicial que separa las clases de manera aleatoria o basada en algún criterio simple. Este hiperplano puede no ser óptimo en absoluto; simplemente sirve como punto de partida.\n",
        "\n",
        "* Posteriormente el algoritmo busca optimizar el hiperplano realizando los siguientes pasos:\n",
        "\n",
        " * Identifica los vectores de soporte: Estos son los puntos de datos más cercanos al hiperplano en cada clase.\n",
        "\n",
        " * Maximiza el margen: SVM ajusta el hiperplano para maximizar el margen, es decir, la distancia entre los vectores de soporte de diferentes clases y el hiperplano. Un margen mayor generalmente significa mejor generalización del modelo.\n",
        "\n",
        " * Minimiza el error de clasificación: Aunque se busca maximizar el margen, el SVM también tiene en cuenta los errores de clasificación, especialmente si las clases no son perfectamente separables.\n",
        "\n",
        "* El anterior paso de optimizacion se repite hasta encontrar un punto de convergencia donde el algoritmo termina su ejecución.\n",
        "\n",
        "\n"
      ]
    },
    {
      "cell_type": "code",
      "execution_count": null,
      "metadata": {
        "id": "g_paUedTyZjJ"
      },
      "outputs": [],
      "source": [
        "#Evaluar el modelo\n",
        "y_pred = svm_model.predict(X_test)"
      ]
    },
    {
      "cell_type": "code",
      "execution_count": null,
      "metadata": {
        "id": "b5_s4kz8youN",
        "colab": {
          "base_uri": "https://localhost:8080/"
        },
        "outputId": "e9784125-46dd-4554-ac1b-43bc25ddb134"
      },
      "outputs": [
        {
          "output_type": "stream",
          "name": "stdout",
          "text": [
            "Accuracy: 0.9765432098765432\n",
            "\n",
            "Matriz de Confusión\n",
            " [[247   2   1]\n",
            " [  3 259   6]\n",
            " [  0   7 285]]\n",
            "\n",
            "Reporte de Clasificación\n",
            "               precision    recall  f1-score   support\n",
            "\n",
            "           3       0.99      0.99      0.99       250\n",
            "           4       0.97      0.97      0.97       268\n",
            "           5       0.98      0.98      0.98       292\n",
            "\n",
            "    accuracy                           0.98       810\n",
            "   macro avg       0.98      0.98      0.98       810\n",
            "weighted avg       0.98      0.98      0.98       810\n",
            "\n"
          ]
        }
      ],
      "source": [
        "#Metricas de rendimiento\n",
        "print(\"Accuracy:\", accuracy_score(y_test, y_pred))\n",
        "print(\"\\nMatriz de Confusión\\n\", confusion_matrix(y_test, y_pred))\n",
        "print(\"\\nReporte de Clasificación\\n\", classification_report(y_test, y_pred))"
      ]
    },
    {
      "cell_type": "markdown",
      "metadata": {
        "id": "j9Nq7hAv3l5w"
      },
      "source": [
        " **Accuracy**\n",
        "\n",
        " Se evidencia un valor de 97,65% de accuracy, Este alto valor de precisión sugiere que el modelo tiene un excelente rendimiento general y es muy efectivo para esta tarea de clasificación multiclase.\n",
        "\n",
        " **Matriz de Confusión**\n",
        "\n",
        " * De las 250 instancias del ODS 3, el modelo clasificó correctamente 247, mientras que confundió 2 con el ODS 4 y 1 con el ODS 5.\n",
        "\n",
        " * De las 268 instancias del ODS 4, 261 fueron clasificadas correctamente, con 3 instancias clasificadas erróneamente como ODS 3 y 6 como ODS 5.\n",
        "\n",
        " * De las 292 instancias del ODS 5, 285 fueron clasificadas correctamente, con 7 clasificadas incorrectamente como ODS 4.\n",
        "\n",
        " La mayoría de los errores de clasificación son mínimos, con solo unas pocas instancias confundidas entre los ODS. Esto indica que el modelo tiene una capacidad de discriminación fuerte entre las categorías.\n",
        "\n",
        "**Reporte de Clasificación**\n",
        "\n",
        "* La precision indica qué tan preciso es el modelo al etiquetar una instancia como perteneciente a una clase determinada, para los ODS 3, 4 y 5 sus valores son 99%, 97% y 98% respectivamente.\n",
        "\n",
        "* Recall mide la capacidad del modelo para identificar correctamente todas las instancias de una clase, para los ODS 3, 4 y 5 sus valores son 99%, 97% y 98% respectivamente.\n",
        "\n",
        "* F1-Score es el promedio armónico entre precision y recall. Un F1-Score alto indica un equilibrio entre precisión y recall, lo cual es deseable, para los ODS 3, 4 y 5 sus valores son 99%, 97% y 98% respectivamente.\n",
        "\n",
        "El modelo SVM demuestra un rendimiento alto, con una precisión general del 97.65% y altas puntuaciones en las métricas de precision, recall, y F1-Score para todas las clases. Esto sugiere que el modelo es altamente efectivo para la tarea de clasificación de comentarios en las diferentes categorías, logrando un equilibrio sólido entre la capacidad de identificar correctamente las clases y evitar errores de clasificación.\n",
        "\n",
        "\n"
      ]
    },
    {
      "cell_type": "markdown",
      "metadata": {
        "id": "ZbKiqpC7Cbdj"
      },
      "source": [
        "## Naive Bayes\n",
        "**Elaborado por Mateo Calderón**\n",
        "\n",
        "Este es un algortimo que se ajusta muy bien a nuestro proyecto, ya que es comunmente usado en casos en donde se requieren sistemas de clasificación de texto.\n",
        "\n",
        "**Relación con el Teorema de Bayes**\n",
        "\n",
        "Este clasificador probabilístico se basa en dicho teorema, lo que significa que utiliza probabilidades condicionales y probabilidades previas para calcular las probabilidades posteriores.\n",
        "\n",
        "**Funcionamiento**\n",
        "\n",
        "El algoritmo utiliza un supuesto de independencia spone que los predictores en un modelo de este tipo son condicionalmente independientes, es decir, solo se requerirá una única probabilidad para cada variable, lo que facilita el cálculo del modelo. Y aunque el supuesto en el que se basa puede verse como poco realista, funciona bien para tareas de clasificación como esta.\n"
      ]
    },
    {
      "cell_type": "markdown",
      "source": [
        "Antes de implementar el algortimo vamos a ver el tamaño de las variables que vamos a utilizar en el modelo."
      ],
      "metadata": {
        "id": "sh11JhjalYIL"
      }
    },
    {
      "cell_type": "code",
      "execution_count": null,
      "metadata": {
        "id": "TRWDiYVOJhzL",
        "colab": {
          "base_uri": "https://localhost:8080/"
        },
        "outputId": "6ce56eeb-9073-40c2-b0fb-92ebc855226d"
      },
      "outputs": [
        {
          "output_type": "stream",
          "name": "stdout",
          "text": [
            "Tamaño de X_train: (3239, 9369)\n",
            "Tamaño de Y_train: (3239,)\n",
            "Tamaño de X_test (prueba): (810, 9369)\n",
            "Tamaño de Y_test: (810,)\n"
          ]
        }
      ],
      "source": [
        "print(\"Tamaño de X_train:\", X_train.shape)\n",
        "print(\"Tamaño de Y_train:\", y_train.shape)\n",
        "print(\"Tamaño de X_test (prueba):\", X_test.shape)\n",
        "print(\"Tamaño de Y_test:\", y_test.shape)\n"
      ]
    },
    {
      "cell_type": "markdown",
      "source": [
        "Como lo vimos en la etapa de limpieza y preparación de los datos, se utilizaron distintos etapas para dejar los datos listos para que el algoritmo pueda trabajar de la mejor forma"
      ],
      "metadata": {
        "id": "smk04kPllj80"
      }
    },
    {
      "cell_type": "markdown",
      "source": [
        "En el algoritmo se va a implementar el clasificador Multinomial de Naive Bayes que es muy útil para tareas de clasificación. Usualmente en el mismo algortimo se suelen usar técnicas de vectorización de los datos como el TfidfVectorizer, pero en este caso los datos ingresados como párametro a la función ya lo están."
      ],
      "metadata": {
        "id": "wzMaVV8ZmT0Q"
      }
    },
    {
      "cell_type": "code",
      "execution_count": null,
      "metadata": {
        "id": "QzL4mMd2QBJm"
      },
      "outputs": [],
      "source": [
        "def transform_model_data_w_tfidf_vectorizer(X_train, y_train, X_test, y_test):\n",
        "\n",
        "    #Definicion del modelo de Naive Bayes\n",
        "    model = MultinomialNB(alpha=0.1)\n",
        "    model.fit(X_train, y_train)\n",
        "\n",
        "    #Evaluacion del modelo\n",
        "    predictions = model.predict(X_test)\n",
        "\n",
        "    return predictions"
      ]
    },
    {
      "cell_type": "code",
      "execution_count": null,
      "metadata": {
        "id": "4lFI1qpxQmoj",
        "colab": {
          "base_uri": "https://localhost:8080/"
        },
        "outputId": "c534c538-259d-4095-faef-743a88917a2b"
      },
      "outputs": [
        {
          "output_type": "stream",
          "name": "stdout",
          "text": [
            "Accuracy: 0.9679012345679012 \n",
            "\n",
            "Matriz de Confusión:\n",
            " [[241   3   6]\n",
            " [  2 261   5]\n",
            " [  1   9 282]] \n",
            "\n",
            "Reporte de Clasificación:\n",
            "               precision    recall  f1-score   support\n",
            "\n",
            "           3       0.99      0.96      0.98       250\n",
            "           4       0.96      0.97      0.96       268\n",
            "           5       0.96      0.97      0.96       292\n",
            "\n",
            "    accuracy                           0.97       810\n",
            "   macro avg       0.97      0.97      0.97       810\n",
            "weighted avg       0.97      0.97      0.97       810\n",
            "\n"
          ]
        }
      ],
      "source": [
        "predictions = transform_model_data_w_tfidf_vectorizer(X_train, y_train, X_test, y_test)\n",
        "\n",
        "print(\"Accuracy:\", accuracy_score(y_test, predictions),\"\\n\")\n",
        "print(\"Matriz de Confusión:\\n\", confusion_matrix(y_test, predictions),\"\\n\")\n",
        "print(\"Reporte de Clasificación:\\n\", classification_report(y_test, predictions))"
      ]
    },
    {
      "cell_type": "markdown",
      "source": [
        "\n",
        "\n",
        "**Accuracy**\n",
        "\n",
        "* El resultado que nos da el modelo es de un accuracy del 96,79%. Lo cuál nos muestra que el algoritmo hizo un muy buen trabajo y fue bastante efectivo para poder clasificar los textos.\n",
        "\n",
        "\n",
        "**Matriz de Confusión**\n",
        "* La matriz nos muestra que el modelo obtuvo estos resultados:\n",
        " * Clase 3: de los 250 registros, 241 fueron clasificadas correctamente para esa clase, 3 fueron clasificados incorrectamente en la clase 4 y 6 fueron erroneamente asignados a las clase 5.\n",
        " * Clase 4: de los 268 registros, 261 fueron correctamente clasificados en esa clase, 2 instancias fueron clasificadas en la clase 3 y 5 incorrectamente en la clase 5.\n",
        " * Clase 5: de las 292 instancias de esta clase fueron erroneamente clasificados 1 registro en la clase 3 y 9 en la clase 4, mientras que 282 fueron correctamente clasificados\n",
        "\n",
        "**Reporte de Clasificación**\n",
        "\n",
        "* Estos son los resultados que nos da este reporte:\n",
        "\n",
        " * La precision que muestra qué tan preciso es el modelo en su tarea de clasificar nos muestra los siguientes resultados, ODS 3: 99%, ODS 4: 96% y ODS 5: 96%.\n",
        "\n",
        " * El Recall es el que mide la capacidad del modelo para identificar correctamente todas las instancias de una clase, estos fueron los resultados, ODS 3: 96%, ODS 4: 97% y ODS 5: 97%.\n",
        "\n",
        " * F1-Score es el promedio armónico entre precision y recall. El F1-Score esta directamente relacionado con la calidad del modelo, en esta etapa los resultados fueron, ODS 3: 98%, ODS 4: 96% y ODS 5: 96%.\n"
      ],
      "metadata": {
        "id": "2kJNnGrgn432"
      }
    },
    {
      "cell_type": "markdown",
      "source": [
        "#**Conclusiones**\n",
        "\n",
        "Teniendo en cuenta los resultados de los diferentes algoritmos, se concluye que se hará uso del algoritmo Support Vector Machines (SVM) ya que fue el modelo con mayor precisión con un 97.65%\n",
        "\n",
        "Este algoritmo ha demostrado ser el que mejor se adapta a las necesidades del negocio de clasificar las opiniones de los ciudadanos en una ODS específica.\n",
        "\n",
        "Finalmente, se encontraran insights valiosos para el cliente con respecto a este algoritmo."
      ],
      "metadata": {
        "id": "-pLaYDUuA9eI"
      }
    },
    {
      "cell_type": "code",
      "source": [
        "# Obtener los coeficientes del modelo\n",
        "coef = svm_model.coef_.toarray()\n",
        "\n",
        "# Crear un DataFrame con las características y sus coeficientes\n",
        "feature_names = tfidf_vectorizer.get_feature_names_out()\n",
        "coef_df = pd.DataFrame(coef, columns=feature_names)\n",
        "\n",
        "for i in range(coef_df.shape[0]):  # Iterar sobre cada clase\n",
        "    print(f\"\\nPalabras clave más importantes para el ODS {3+i}:\")\n",
        "    class_coef = coef_df.iloc[i, :]  # Coeficientes para la clase `i`\n",
        "    important_features_idx = np.argsort(class_coef)[::-1]  # Ordenar por importancia descendente\n",
        "    top_words = [feature_names[idx] for idx in important_features_idx[:30]]\n",
        "\n",
        "    # Mostrar las palabras clave y sus coeficientes\n",
        "    for word in top_words:\n",
        "        print(f\"{word}: {class_coef[word]}\")\n",
        "\n",
        "\n"
      ],
      "metadata": {
        "id": "_xO7imX1F40Y",
        "colab": {
          "base_uri": "https://localhost:8080/"
        },
        "outputId": "d440f1bd-fe9d-41fc-ee03-a42aa9481f10"
      },
      "execution_count": null,
      "outputs": [
        {
          "output_type": "stream",
          "name": "stdout",
          "text": [
            "\n",
            "Palabras clave más importantes para el ODS 3:\n",
            "salud: 3.8195012063210285\n",
            "sanitari: 1.9950875092364007\n",
            "atencion: 1.704463297807135\n",
            "mental: 1.6731461080470331\n",
            "pacient: 1.6617033127124583\n",
            "medic: 1.4893462073962187\n",
            "hospital: 1.3166687199563527\n",
            "enfermedad: 1.2693263701646371\n",
            "enfermed: 1.1611015450363076\n",
            "mortal: 1.100782478451598\n",
            "tratamient: 1.0652857386877674\n",
            "control: 1.0387704381916278\n",
            "drog: 0.986169148083376\n",
            "esalud: 0.954043713459996\n",
            "hospitalari: 0.9397159949400622\n",
            "medicament: 0.9261564655796224\n",
            "consum: 0.9025703589165799\n",
            "muert: 0.897679919761197\n",
            "directric: 0.8869978662615305\n",
            "suicidi: 0.8673231602364003\n",
            "esper: 0.8668770098801807\n",
            "clinic: 0.8643814048514342\n",
            "cme: 0.859273604420612\n",
            "diabet: 0.8182367937441003\n",
            "abus: 0.8168174900908555\n",
            "health: 0.8122860632843418\n",
            "vid: 0.762252690409667\n",
            "cobertur: 0.7566280446914145\n",
            "trastorn: 0.7445972378086436\n",
            "farmaceut: 0.7299165400997464\n",
            "\n",
            "Palabras clave más importantes para el ODS 4:\n",
            "salud: 3.039758545529626\n",
            "sanitari: 1.843584690873858\n",
            "drog: 1.7466592425188887\n",
            "medic: 1.6758594884649285\n",
            "enfermedad: 1.6716821651954907\n",
            "atencion: 1.518940477837748\n",
            "pacient: 1.3850001553689228\n",
            "mortal: 1.2960116392117744\n",
            "consum: 1.2878808531810957\n",
            "enfermed: 1.2426950589869388\n",
            "riesg: 1.233595442717741\n",
            "tratamient: 1.227752993775141\n",
            "medicament: 1.1937680175801693\n",
            "hospital: 1.1163965873032953\n",
            "esper: 1.0987872549174824\n",
            "indigen: 1.0370736210316431\n",
            "alcohol: 1.0149152818205696\n",
            "tabaqu: 0.9934277807528327\n",
            "diabet: 0.9508715133897531\n",
            "cobertur: 0.9104864541726483\n",
            "nacimient: 0.8573363523819256\n",
            "medicin: 0.8531488619117356\n",
            "mental: 0.8480308250447159\n",
            "vih: 0.8461938301515686\n",
            "sustanci: 0.8178346028894541\n",
            "ue: 0.8109132857808534\n",
            "copag: 0.8043750865888522\n",
            "sistem: 0.8009018846589773\n",
            "incident: 0.7946715887172091\n",
            "farmaceut: 0.7925962420320116\n",
            "\n",
            "Palabras clave más importantes para el ODS 5:\n",
            "educ: 2.449517645945151\n",
            "estudi: 2.362078164815357\n",
            "escuel: 2.1973203860897037\n",
            "aprendizaj: 1.7406800196934977\n",
            "docent: 1.5375262110120798\n",
            "habil: 1.4698255219956695\n",
            "profesor: 1.4469311023597944\n",
            "sistem: 1.1280117900210815\n",
            "maestr: 1.120631866167094\n",
            "formacion: 1.1096206060344613\n",
            "escol: 1.0490452067834266\n",
            "pedagog: 1.018684704528343\n",
            "colabor: 0.9964032190742281\n",
            "gast: 0.9897352959615875\n",
            "calid: 0.9890565402233542\n",
            "alumn: 0.9414707810854916\n",
            "preescol: 0.915289177477868\n",
            "academ: 0.8918424211035153\n",
            "enseñ: 0.8901643863808006\n",
            "ods: 0.8880174462001182\n",
            "competent: 0.8785387035781782\n",
            "centr: 0.8766300210257425\n",
            "superior: 0.8408433972075011\n",
            "pis: 0.8073697809220166\n",
            "penang: 0.8008673596453525\n",
            "indigen: 0.7785204705987274\n",
            "univers: 0.7713743059259713\n",
            "curs: 0.7635549669951325\n",
            "escolar: 0.7335946094111315\n",
            "objet: 0.7295315006519598\n"
          ]
        }
      ]
    }
  ],
  "metadata": {
    "colab": {
      "provenance": []
    },
    "kernelspec": {
      "display_name": "Python 3",
      "name": "python3"
    },
    "language_info": {
      "name": "python"
    }
  },
  "nbformat": 4,
  "nbformat_minor": 0
}